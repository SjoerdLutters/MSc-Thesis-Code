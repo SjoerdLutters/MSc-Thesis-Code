{
 "cells": [
  {
   "cell_type": "code",
   "execution_count": 31,
   "id": "9bb19738",
   "metadata": {},
   "outputs": [],
   "source": [
    "import pandas as pd\n",
    "import numpy as np"
   ]
  },
  {
   "cell_type": "code",
   "execution_count": 32,
   "id": "8909f700",
   "metadata": {},
   "outputs": [
    {
     "name": "stderr",
     "output_type": "stream",
     "text": [
      "C:\\Users\\u180569\\AppData\\Local\\Temp\\ipykernel_14008\\4282720475.py:1: DtypeWarning: Columns (10) have mixed types. Specify dtype option on import or set low_memory=False.\n",
      "  data1 = pd.read_csv(\"5 min traffic intensity 2016 2017.csv\")\n"
     ]
    }
   ],
   "source": [
    "data1 = pd.read_csv(\"5 min traffic intensity 2016 2017.csv\")"
   ]
  },
  {
   "cell_type": "code",
   "execution_count": 33,
   "id": "8002e0f9",
   "metadata": {},
   "outputs": [
    {
     "data": {
      "text/plain": [
       "'stacked_data = pd.concat([data1, data2, data3, data4], axis=0)\\n\\n# Reset index if needed\\n#stacked_data.reset_index(drop=True, inplace=True)\\n\\n# Display the stacked DataFrame\\nstacked_data.head()'"
      ]
     },
     "execution_count": 33,
     "metadata": {},
     "output_type": "execute_result"
    }
   ],
   "source": [
    "stacked_data = data1\n",
    "\n",
    "'''stacked_data = pd.concat([data1, data2, data3, data4], axis=0)\n",
    "\n",
    "# Reset index if needed\n",
    "#stacked_data.reset_index(drop=True, inplace=True)\n",
    "\n",
    "# Display the stacked DataFrame\n",
    "stacked_data.head()'''"
   ]
  },
  {
   "cell_type": "code",
   "execution_count": 34,
   "id": "0452b9a2",
   "metadata": {},
   "outputs": [],
   "source": [
    "# Define the list of values to be removed\n",
    "values_to_remove = ['RWS01_MONIBAS_0071hrl1805ra', 'RWS01_MONIBAS_0281hrl1476ra',\n",
    "                    'RWS01_MONIBAS_0071hrr1805ra', 'RWS01_MONIBAS_0281hrr1476ra',\n",
    "                    'RWS01_MONIBAS_0321hrr0654ra', 'RWS01_MONIBAS_0321hrl0654ra',\n",
    "                    'RWS01_MONIBAS_0321hrr0467ra', 'RWS01_MONIBAS_0321hrl0467ra',\n",
    "                    'RWS01_MONIBAS_0041hrl0151ra', 'RWS01_MONIBAS_0041hrr0152ra',\n",
    "                    'RWS01_MONIBAS_0070vwb1401ra', 'RWS01_MONIBAS_0070vwc1401ra'\n",
    "                   ]\n",
    "\n",
    "# Filter out rows with specified values in the id_meetlocatie column\n",
    "stacked_data = stacked_data[~stacked_data['id_meetlocatie'].isin(values_to_remove)]\n",
    "\n",
    "# Reset index if needed\n",
    "stacked_data.reset_index(drop=True, inplace=True)\n",
    "\n",
    "# Display the filtered DataFrame\n",
    "#filtered_stacked_data.head()"
   ]
  },
  {
   "cell_type": "code",
   "execution_count": 35,
   "id": "d04c5a6c",
   "metadata": {},
   "outputs": [],
   "source": [
    "data = stacked_data"
   ]
  },
  {
   "cell_type": "code",
   "execution_count": 36,
   "id": "a704639d",
   "metadata": {},
   "outputs": [
    {
     "name": "stderr",
     "output_type": "stream",
     "text": [
      "C:\\Users\\u180569\\AppData\\Local\\Temp\\ipykernel_14008\\4205887186.py:2: SettingWithCopyWarning: \n",
      "A value is trying to be set on a copy of a slice from a DataFrame.\n",
      "Try using .loc[row_indexer,col_indexer] = value instead\n",
      "\n",
      "See the caveats in the documentation: https://pandas.pydata.org/pandas-docs/stable/user_guide/indexing.html#returning-a-view-versus-a-copy\n",
      "  data['gem_intensiteit'] = data['gem_intensiteit'].replace(-1, 0)\n",
      "C:\\Users\\u180569\\AppData\\Local\\Temp\\ipykernel_14008\\4205887186.py:3: SettingWithCopyWarning: \n",
      "A value is trying to be set on a copy of a slice from a DataFrame.\n",
      "Try using .loc[row_indexer,col_indexer] = value instead\n",
      "\n",
      "See the caveats in the documentation: https://pandas.pydata.org/pandas-docs/stable/user_guide/indexing.html#returning-a-view-versus-a-copy\n",
      "  data['gem_snelheid'] = data['gem_snelheid'].replace(-1, 0)\n"
     ]
    }
   ],
   "source": [
    "# Assuming 'data' is your DataFrame\n",
    "data['gem_intensiteit'] = data['gem_intensiteit'].replace(-1, 0)\n",
    "data['gem_snelheid'] = data['gem_snelheid'].replace(-1, 0)"
   ]
  },
  {
   "cell_type": "code",
   "execution_count": 37,
   "id": "ea87d4e1",
   "metadata": {},
   "outputs": [
    {
     "data": {
      "text/plain": [
       "id_meetlocatie\n",
       "RWS01_MONIBAS_0021hrl0414ra    0\n",
       "RWS01_MONIBAS_0021hrl1309ra    0\n",
       "RWS01_MONIBAS_0021hrl2368ra    0\n",
       "RWS01_MONIBAS_0021hrr0415ra    0\n",
       "RWS01_MONIBAS_0021hrr1309ra    0\n",
       "RWS01_MONIBAS_0021hrr2368ra    0\n",
       "RWS01_MONIBAS_0131hrl0122ra    0\n",
       "RWS01_MONIBAS_0131hrr0122ra    0\n",
       "RWS01_MONIBAS_0271hrl1140ra    0\n",
       "RWS01_MONIBAS_0271hrr1140ra    0\n",
       "RWS01_MONIBAS_0281hrl1029ra    0\n",
       "RWS01_MONIBAS_0281hrr1029ra    0\n",
       "RWS01_MONIBAS_0731hrl1018ra    0\n",
       "RWS01_MONIBAS_0731hrr1018ra    0\n",
       "dtype: int64"
      ]
     },
     "execution_count": 37,
     "metadata": {},
     "output_type": "execute_result"
    }
   ],
   "source": [
    "#check for missing values\n",
    "\n",
    "data.groupby('id_meetlocatie').apply(lambda x: x['gem_snelheid'].isnull().sum())"
   ]
  },
  {
   "cell_type": "code",
   "execution_count": 38,
   "id": "8523a799",
   "metadata": {},
   "outputs": [
    {
     "data": {
      "text/plain": [
       "array(['F1A', 'F3A', 'F5A', 'F7A', 'F9A', 'F801A', 'F1B', 'F2B', 'F3B',\n",
       "       'F4B', 'F9B', 'F10B', 'F11B', 'F12B'], dtype=object)"
      ]
     },
     "execution_count": 38,
     "metadata": {},
     "output_type": "execute_result"
    }
   ],
   "source": [
    "data[\"ndw_index\"].unique()"
   ]
  },
  {
   "cell_type": "code",
   "execution_count": 39,
   "id": "fe4ab2f1",
   "metadata": {},
   "outputs": [],
   "source": [
    "#remove stopping lane\n",
    "\n",
    "data = data[data['ndw_index'] != 'F801A']"
   ]
  },
  {
   "cell_type": "code",
   "execution_count": 40,
   "id": "417b3dcb",
   "metadata": {
    "scrolled": true
   },
   "outputs": [
    {
     "name": "stderr",
     "output_type": "stream",
     "text": [
      "C:\\Users\\u180569\\AppData\\Local\\Temp\\ipykernel_14008\\1678938041.py:2: SettingWithCopyWarning: \n",
      "A value is trying to be set on a copy of a slice from a DataFrame.\n",
      "Try using .loc[row_indexer,col_indexer] = value instead\n",
      "\n",
      "See the caveats in the documentation: https://pandas.pydata.org/pandas-docs/stable/user_guide/indexing.html#returning-a-view-versus-a-copy\n",
      "  data['time_column'] = pd.to_datetime(data['start_meetperiode'])  # Convert to datetime if not already\n",
      "C:\\Users\\u180569\\AppData\\Local\\Temp\\ipykernel_14008\\1678938041.py:5: SettingWithCopyWarning: \n",
      "A value is trying to be set on a copy of a slice from a DataFrame.\n",
      "Try using .loc[row_indexer,col_indexer] = value instead\n",
      "\n",
      "See the caveats in the documentation: https://pandas.pydata.org/pandas-docs/stable/user_guide/indexing.html#returning-a-view-versus-a-copy\n",
      "  data['date'] = data['time_column'].dt.date\n",
      "C:\\Users\\u180569\\AppData\\Local\\Temp\\ipykernel_14008\\1678938041.py:6: SettingWithCopyWarning: \n",
      "A value is trying to be set on a copy of a slice from a DataFrame.\n",
      "Try using .loc[row_indexer,col_indexer] = value instead\n",
      "\n",
      "See the caveats in the documentation: https://pandas.pydata.org/pandas-docs/stable/user_guide/indexing.html#returning-a-view-versus-a-copy\n",
      "  data['year'] = data['time_column'].dt.year\n",
      "C:\\Users\\u180569\\AppData\\Local\\Temp\\ipykernel_14008\\1678938041.py:7: SettingWithCopyWarning: \n",
      "A value is trying to be set on a copy of a slice from a DataFrame.\n",
      "Try using .loc[row_indexer,col_indexer] = value instead\n",
      "\n",
      "See the caveats in the documentation: https://pandas.pydata.org/pandas-docs/stable/user_guide/indexing.html#returning-a-view-versus-a-copy\n",
      "  data['month'] = data['time_column'].dt.month\n",
      "C:\\Users\\u180569\\AppData\\Local\\Temp\\ipykernel_14008\\1678938041.py:8: SettingWithCopyWarning: \n",
      "A value is trying to be set on a copy of a slice from a DataFrame.\n",
      "Try using .loc[row_indexer,col_indexer] = value instead\n",
      "\n",
      "See the caveats in the documentation: https://pandas.pydata.org/pandas-docs/stable/user_guide/indexing.html#returning-a-view-versus-a-copy\n",
      "  data['day'] = data['time_column'].dt.day\n",
      "C:\\Users\\u180569\\AppData\\Local\\Temp\\ipykernel_14008\\1678938041.py:9: SettingWithCopyWarning: \n",
      "A value is trying to be set on a copy of a slice from a DataFrame.\n",
      "Try using .loc[row_indexer,col_indexer] = value instead\n",
      "\n",
      "See the caveats in the documentation: https://pandas.pydata.org/pandas-docs/stable/user_guide/indexing.html#returning-a-view-versus-a-copy\n",
      "  data['hour'] = data['time_column'].dt.hour\n",
      "C:\\Users\\u180569\\AppData\\Local\\Temp\\ipykernel_14008\\1678938041.py:10: SettingWithCopyWarning: \n",
      "A value is trying to be set on a copy of a slice from a DataFrame.\n",
      "Try using .loc[row_indexer,col_indexer] = value instead\n",
      "\n",
      "See the caveats in the documentation: https://pandas.pydata.org/pandas-docs/stable/user_guide/indexing.html#returning-a-view-versus-a-copy\n",
      "  data['minute'] = data['time_column'].dt.minute\n",
      "C:\\Users\\u180569\\AppData\\Local\\Temp\\ipykernel_14008\\1678938041.py:11: SettingWithCopyWarning: \n",
      "A value is trying to be set on a copy of a slice from a DataFrame.\n",
      "Try using .loc[row_indexer,col_indexer] = value instead\n",
      "\n",
      "See the caveats in the documentation: https://pandas.pydata.org/pandas-docs/stable/user_guide/indexing.html#returning-a-view-versus-a-copy\n",
      "  data['day_of_week'] = data['time_column'].dt.dayofweek\n",
      "C:\\Users\\u180569\\AppData\\Local\\Temp\\ipykernel_14008\\1678938041.py:12: SettingWithCopyWarning: \n",
      "A value is trying to be set on a copy of a slice from a DataFrame.\n",
      "Try using .loc[row_indexer,col_indexer] = value instead\n",
      "\n",
      "See the caveats in the documentation: https://pandas.pydata.org/pandas-docs/stable/user_guide/indexing.html#returning-a-view-versus-a-copy\n",
      "  data['weekend'] = (data['day_of_week'] >= 5).astype(int)\n"
     ]
    }
   ],
   "source": [
    "# Assuming 'data' is your DataFrame and 'time_column' is the name of the column containing the datetime values\n",
    "data['time_column'] = pd.to_datetime(data['start_meetperiode'])  # Convert to datetime if not already\n",
    "\n",
    "# Extract year, month, day, hour, and minute into separate columns\n",
    "data['date'] = data['time_column'].dt.date\n",
    "data['year'] = data['time_column'].dt.year\n",
    "data['month'] = data['time_column'].dt.month\n",
    "data['day'] = data['time_column'].dt.day\n",
    "data['hour'] = data['time_column'].dt.hour\n",
    "data['minute'] = data['time_column'].dt.minute\n",
    "data['day_of_week'] = data['time_column'].dt.dayofweek\n",
    "data['weekend'] = (data['day_of_week'] >= 5).astype(int)\n",
    "\n",
    "# Now you have separate columns for year, month, day, hour, and minute"
   ]
  },
  {
   "cell_type": "code",
   "execution_count": 41,
   "id": "a3289ade",
   "metadata": {},
   "outputs": [
    {
     "name": "stderr",
     "output_type": "stream",
     "text": [
      "C:\\Users\\u180569\\AppData\\Local\\Temp\\ipykernel_14008\\3166473090.py:2: SettingWithCopyWarning: \n",
      "A value is trying to be set on a copy of a slice from a DataFrame.\n",
      "Try using .loc[row_indexer,col_indexer] = value instead\n",
      "\n",
      "See the caveats in the documentation: https://pandas.pydata.org/pandas-docs/stable/user_guide/indexing.html#returning-a-view-versus-a-copy\n",
      "  data['gem_intensiteit'] += 0.000001\n"
     ]
    }
   ],
   "source": [
    "# Add 0.000001 to the values in the \"gem_intensiteit\" column\n",
    "data['gem_intensiteit'] += 0.000001"
   ]
  },
  {
   "cell_type": "code",
   "execution_count": 42,
   "id": "e6e654fb",
   "metadata": {},
   "outputs": [
    {
     "name": "stderr",
     "output_type": "stream",
     "text": [
      "C:\\Users\\u180569\\AppData\\Local\\Temp\\ipykernel_14008\\191123816.py:1: SettingWithCopyWarning: \n",
      "A value is trying to be set on a copy of a slice from a DataFrame.\n",
      "Try using .loc[row_indexer,col_indexer] = value instead\n",
      "\n",
      "See the caveats in the documentation: https://pandas.pydata.org/pandas-docs/stable/user_guide/indexing.html#returning-a-view-versus-a-copy\n",
      "  data['intensiteit'] = data['gem_intensiteit']/12\n"
     ]
    }
   ],
   "source": [
    "data['intensiteit'] = data['gem_intensiteit']/12"
   ]
  },
  {
   "cell_type": "code",
   "execution_count": 43,
   "id": "1b0085ee",
   "metadata": {},
   "outputs": [
    {
     "name": "stderr",
     "output_type": "stream",
     "text": [
      "C:\\Users\\u180569\\AppData\\Local\\Temp\\ipykernel_14008\\3443430302.py:1: SettingWithCopyWarning: \n",
      "A value is trying to be set on a copy of a slice from a DataFrame.\n",
      "Try using .loc[row_indexer,col_indexer] = value instead\n",
      "\n",
      "See the caveats in the documentation: https://pandas.pydata.org/pandas-docs/stable/user_guide/indexing.html#returning-a-view-versus-a-copy\n",
      "  data['sumspeed'] = data['intensiteit'] * data ['gem_snelheid']\n"
     ]
    }
   ],
   "source": [
    "data['sumspeed'] = data['intensiteit'] * data ['gem_snelheid']"
   ]
  },
  {
   "cell_type": "code",
   "execution_count": 44,
   "id": "113ed8d7",
   "metadata": {},
   "outputs": [],
   "source": [
    "#extra check not necessary if previous one was already succesful\n",
    "#data.groupby('id_meetlocatie').apply(lambda x: x['gem_snelheid'].isnull().sum())"
   ]
  },
  {
   "cell_type": "code",
   "execution_count": 45,
   "id": "bfe72bed",
   "metadata": {},
   "outputs": [],
   "source": [
    "# Select the columns to group by\n",
    "group_columns = ['id_meetlocatie', 'date', 'year', 'month', 'day', 'hour', 'minute', 'day_of_week', 'weekend', 'totaal_aantal_rijstroken']\n",
    "\n",
    "# Group by the selected columns and aggregate other columns\n",
    "grouped_data = data.groupby(group_columns).agg({'intensiteit': 'sum', 'sumspeed': 'sum'}).reset_index()"
   ]
  },
  {
   "cell_type": "code",
   "execution_count": 46,
   "id": "a05382b2",
   "metadata": {},
   "outputs": [],
   "source": [
    "grouped_data['avg_speed'] = grouped_data['sumspeed'] / grouped_data['intensiteit']\n",
    "grouped_data = grouped_data.drop(columns=['sumspeed'])"
   ]
  },
  {
   "cell_type": "code",
   "execution_count": 47,
   "id": "04eb13e4",
   "metadata": {},
   "outputs": [
    {
     "data": {
      "text/html": [
       "<div>\n",
       "<style scoped>\n",
       "    .dataframe tbody tr th:only-of-type {\n",
       "        vertical-align: middle;\n",
       "    }\n",
       "\n",
       "    .dataframe tbody tr th {\n",
       "        vertical-align: top;\n",
       "    }\n",
       "\n",
       "    .dataframe thead th {\n",
       "        text-align: right;\n",
       "    }\n",
       "</style>\n",
       "<table border=\"1\" class=\"dataframe\">\n",
       "  <thead>\n",
       "    <tr style=\"text-align: right;\">\n",
       "      <th></th>\n",
       "      <th>id_meetlocatie</th>\n",
       "      <th>date</th>\n",
       "      <th>year</th>\n",
       "      <th>month</th>\n",
       "      <th>day</th>\n",
       "      <th>hour</th>\n",
       "      <th>minute</th>\n",
       "      <th>day_of_week</th>\n",
       "      <th>weekend</th>\n",
       "      <th>totaal_aantal_rijstroken</th>\n",
       "      <th>intensiteit</th>\n",
       "      <th>avg_speed</th>\n",
       "    </tr>\n",
       "  </thead>\n",
       "  <tbody>\n",
       "    <tr>\n",
       "      <th>0</th>\n",
       "      <td>RWS01_MONIBAS_0021hrl0414ra</td>\n",
       "      <td>2016-01-01</td>\n",
       "      <td>2016</td>\n",
       "      <td>1</td>\n",
       "      <td>1</td>\n",
       "      <td>0</td>\n",
       "      <td>0</td>\n",
       "      <td>4</td>\n",
       "      <td>0</td>\n",
       "      <td>5</td>\n",
       "      <td>36.00</td>\n",
       "      <td>110.760833</td>\n",
       "    </tr>\n",
       "    <tr>\n",
       "      <th>1</th>\n",
       "      <td>RWS01_MONIBAS_0021hrl0414ra</td>\n",
       "      <td>2016-01-01</td>\n",
       "      <td>2016</td>\n",
       "      <td>1</td>\n",
       "      <td>1</td>\n",
       "      <td>0</td>\n",
       "      <td>5</td>\n",
       "      <td>4</td>\n",
       "      <td>0</td>\n",
       "      <td>5</td>\n",
       "      <td>23.00</td>\n",
       "      <td>108.158261</td>\n",
       "    </tr>\n",
       "    <tr>\n",
       "      <th>2</th>\n",
       "      <td>RWS01_MONIBAS_0021hrl0414ra</td>\n",
       "      <td>2016-01-01</td>\n",
       "      <td>2016</td>\n",
       "      <td>1</td>\n",
       "      <td>1</td>\n",
       "      <td>0</td>\n",
       "      <td>10</td>\n",
       "      <td>4</td>\n",
       "      <td>0</td>\n",
       "      <td>5</td>\n",
       "      <td>27.00</td>\n",
       "      <td>102.365926</td>\n",
       "    </tr>\n",
       "    <tr>\n",
       "      <th>3</th>\n",
       "      <td>RWS01_MONIBAS_0021hrl0414ra</td>\n",
       "      <td>2016-01-01</td>\n",
       "      <td>2016</td>\n",
       "      <td>1</td>\n",
       "      <td>1</td>\n",
       "      <td>0</td>\n",
       "      <td>15</td>\n",
       "      <td>4</td>\n",
       "      <td>0</td>\n",
       "      <td>5</td>\n",
       "      <td>21.00</td>\n",
       "      <td>111.680952</td>\n",
       "    </tr>\n",
       "    <tr>\n",
       "      <th>4</th>\n",
       "      <td>RWS01_MONIBAS_0021hrl0414ra</td>\n",
       "      <td>2016-01-01</td>\n",
       "      <td>2016</td>\n",
       "      <td>1</td>\n",
       "      <td>1</td>\n",
       "      <td>0</td>\n",
       "      <td>20</td>\n",
       "      <td>4</td>\n",
       "      <td>0</td>\n",
       "      <td>5</td>\n",
       "      <td>17.25</td>\n",
       "      <td>114.750724</td>\n",
       "    </tr>\n",
       "    <tr>\n",
       "      <th>5</th>\n",
       "      <td>RWS01_MONIBAS_0021hrl0414ra</td>\n",
       "      <td>2016-01-01</td>\n",
       "      <td>2016</td>\n",
       "      <td>1</td>\n",
       "      <td>1</td>\n",
       "      <td>0</td>\n",
       "      <td>25</td>\n",
       "      <td>4</td>\n",
       "      <td>0</td>\n",
       "      <td>5</td>\n",
       "      <td>42.00</td>\n",
       "      <td>111.105238</td>\n",
       "    </tr>\n",
       "    <tr>\n",
       "      <th>6</th>\n",
       "      <td>RWS01_MONIBAS_0021hrl0414ra</td>\n",
       "      <td>2016-01-01</td>\n",
       "      <td>2016</td>\n",
       "      <td>1</td>\n",
       "      <td>1</td>\n",
       "      <td>0</td>\n",
       "      <td>30</td>\n",
       "      <td>4</td>\n",
       "      <td>0</td>\n",
       "      <td>5</td>\n",
       "      <td>54.00</td>\n",
       "      <td>104.874444</td>\n",
       "    </tr>\n",
       "    <tr>\n",
       "      <th>7</th>\n",
       "      <td>RWS01_MONIBAS_0021hrl0414ra</td>\n",
       "      <td>2016-01-01</td>\n",
       "      <td>2016</td>\n",
       "      <td>1</td>\n",
       "      <td>1</td>\n",
       "      <td>0</td>\n",
       "      <td>35</td>\n",
       "      <td>4</td>\n",
       "      <td>0</td>\n",
       "      <td>5</td>\n",
       "      <td>30.00</td>\n",
       "      <td>106.724666</td>\n",
       "    </tr>\n",
       "    <tr>\n",
       "      <th>8</th>\n",
       "      <td>RWS01_MONIBAS_0021hrl0414ra</td>\n",
       "      <td>2016-01-01</td>\n",
       "      <td>2016</td>\n",
       "      <td>1</td>\n",
       "      <td>1</td>\n",
       "      <td>0</td>\n",
       "      <td>40</td>\n",
       "      <td>4</td>\n",
       "      <td>0</td>\n",
       "      <td>5</td>\n",
       "      <td>35.00</td>\n",
       "      <td>105.063714</td>\n",
       "    </tr>\n",
       "    <tr>\n",
       "      <th>9</th>\n",
       "      <td>RWS01_MONIBAS_0021hrl0414ra</td>\n",
       "      <td>2016-01-01</td>\n",
       "      <td>2016</td>\n",
       "      <td>1</td>\n",
       "      <td>1</td>\n",
       "      <td>0</td>\n",
       "      <td>45</td>\n",
       "      <td>4</td>\n",
       "      <td>0</td>\n",
       "      <td>5</td>\n",
       "      <td>43.00</td>\n",
       "      <td>103.755814</td>\n",
       "    </tr>\n",
       "    <tr>\n",
       "      <th>10</th>\n",
       "      <td>RWS01_MONIBAS_0021hrl0414ra</td>\n",
       "      <td>2016-01-01</td>\n",
       "      <td>2016</td>\n",
       "      <td>1</td>\n",
       "      <td>1</td>\n",
       "      <td>0</td>\n",
       "      <td>50</td>\n",
       "      <td>4</td>\n",
       "      <td>0</td>\n",
       "      <td>5</td>\n",
       "      <td>53.00</td>\n",
       "      <td>103.814717</td>\n",
       "    </tr>\n",
       "    <tr>\n",
       "      <th>11</th>\n",
       "      <td>RWS01_MONIBAS_0021hrl0414ra</td>\n",
       "      <td>2016-01-01</td>\n",
       "      <td>2016</td>\n",
       "      <td>1</td>\n",
       "      <td>1</td>\n",
       "      <td>0</td>\n",
       "      <td>55</td>\n",
       "      <td>4</td>\n",
       "      <td>0</td>\n",
       "      <td>5</td>\n",
       "      <td>70.00</td>\n",
       "      <td>101.988000</td>\n",
       "    </tr>\n",
       "    <tr>\n",
       "      <th>12</th>\n",
       "      <td>RWS01_MONIBAS_0021hrl0414ra</td>\n",
       "      <td>2016-01-01</td>\n",
       "      <td>2016</td>\n",
       "      <td>1</td>\n",
       "      <td>1</td>\n",
       "      <td>1</td>\n",
       "      <td>0</td>\n",
       "      <td>4</td>\n",
       "      <td>0</td>\n",
       "      <td>5</td>\n",
       "      <td>71.00</td>\n",
       "      <td>99.176760</td>\n",
       "    </tr>\n",
       "    <tr>\n",
       "      <th>13</th>\n",
       "      <td>RWS01_MONIBAS_0021hrl0414ra</td>\n",
       "      <td>2016-01-01</td>\n",
       "      <td>2016</td>\n",
       "      <td>1</td>\n",
       "      <td>1</td>\n",
       "      <td>1</td>\n",
       "      <td>5</td>\n",
       "      <td>4</td>\n",
       "      <td>0</td>\n",
       "      <td>5</td>\n",
       "      <td>101.00</td>\n",
       "      <td>101.305445</td>\n",
       "    </tr>\n",
       "    <tr>\n",
       "      <th>14</th>\n",
       "      <td>RWS01_MONIBAS_0021hrl0414ra</td>\n",
       "      <td>2016-01-01</td>\n",
       "      <td>2016</td>\n",
       "      <td>1</td>\n",
       "      <td>1</td>\n",
       "      <td>1</td>\n",
       "      <td>10</td>\n",
       "      <td>4</td>\n",
       "      <td>0</td>\n",
       "      <td>5</td>\n",
       "      <td>90.00</td>\n",
       "      <td>103.741333</td>\n",
       "    </tr>\n",
       "    <tr>\n",
       "      <th>15</th>\n",
       "      <td>RWS01_MONIBAS_0021hrl0414ra</td>\n",
       "      <td>2016-01-01</td>\n",
       "      <td>2016</td>\n",
       "      <td>1</td>\n",
       "      <td>1</td>\n",
       "      <td>1</td>\n",
       "      <td>15</td>\n",
       "      <td>4</td>\n",
       "      <td>0</td>\n",
       "      <td>5</td>\n",
       "      <td>111.00</td>\n",
       "      <td>99.138559</td>\n",
       "    </tr>\n",
       "    <tr>\n",
       "      <th>16</th>\n",
       "      <td>RWS01_MONIBAS_0021hrl0414ra</td>\n",
       "      <td>2016-01-01</td>\n",
       "      <td>2016</td>\n",
       "      <td>1</td>\n",
       "      <td>1</td>\n",
       "      <td>1</td>\n",
       "      <td>20</td>\n",
       "      <td>4</td>\n",
       "      <td>0</td>\n",
       "      <td>5</td>\n",
       "      <td>152.00</td>\n",
       "      <td>99.740395</td>\n",
       "    </tr>\n",
       "    <tr>\n",
       "      <th>17</th>\n",
       "      <td>RWS01_MONIBAS_0021hrl0414ra</td>\n",
       "      <td>2016-01-01</td>\n",
       "      <td>2016</td>\n",
       "      <td>1</td>\n",
       "      <td>1</td>\n",
       "      <td>1</td>\n",
       "      <td>25</td>\n",
       "      <td>4</td>\n",
       "      <td>0</td>\n",
       "      <td>5</td>\n",
       "      <td>123.00</td>\n",
       "      <td>98.894878</td>\n",
       "    </tr>\n",
       "    <tr>\n",
       "      <th>18</th>\n",
       "      <td>RWS01_MONIBAS_0021hrl0414ra</td>\n",
       "      <td>2016-01-01</td>\n",
       "      <td>2016</td>\n",
       "      <td>1</td>\n",
       "      <td>1</td>\n",
       "      <td>1</td>\n",
       "      <td>30</td>\n",
       "      <td>4</td>\n",
       "      <td>0</td>\n",
       "      <td>5</td>\n",
       "      <td>145.00</td>\n",
       "      <td>98.287103</td>\n",
       "    </tr>\n",
       "    <tr>\n",
       "      <th>19</th>\n",
       "      <td>RWS01_MONIBAS_0021hrl0414ra</td>\n",
       "      <td>2016-01-01</td>\n",
       "      <td>2016</td>\n",
       "      <td>1</td>\n",
       "      <td>1</td>\n",
       "      <td>1</td>\n",
       "      <td>35</td>\n",
       "      <td>4</td>\n",
       "      <td>0</td>\n",
       "      <td>5</td>\n",
       "      <td>157.00</td>\n",
       "      <td>100.393758</td>\n",
       "    </tr>\n",
       "  </tbody>\n",
       "</table>\n",
       "</div>"
      ],
      "text/plain": [
       "                 id_meetlocatie        date  year  month  day  hour  minute  \\\n",
       "0   RWS01_MONIBAS_0021hrl0414ra  2016-01-01  2016      1    1     0       0   \n",
       "1   RWS01_MONIBAS_0021hrl0414ra  2016-01-01  2016      1    1     0       5   \n",
       "2   RWS01_MONIBAS_0021hrl0414ra  2016-01-01  2016      1    1     0      10   \n",
       "3   RWS01_MONIBAS_0021hrl0414ra  2016-01-01  2016      1    1     0      15   \n",
       "4   RWS01_MONIBAS_0021hrl0414ra  2016-01-01  2016      1    1     0      20   \n",
       "5   RWS01_MONIBAS_0021hrl0414ra  2016-01-01  2016      1    1     0      25   \n",
       "6   RWS01_MONIBAS_0021hrl0414ra  2016-01-01  2016      1    1     0      30   \n",
       "7   RWS01_MONIBAS_0021hrl0414ra  2016-01-01  2016      1    1     0      35   \n",
       "8   RWS01_MONIBAS_0021hrl0414ra  2016-01-01  2016      1    1     0      40   \n",
       "9   RWS01_MONIBAS_0021hrl0414ra  2016-01-01  2016      1    1     0      45   \n",
       "10  RWS01_MONIBAS_0021hrl0414ra  2016-01-01  2016      1    1     0      50   \n",
       "11  RWS01_MONIBAS_0021hrl0414ra  2016-01-01  2016      1    1     0      55   \n",
       "12  RWS01_MONIBAS_0021hrl0414ra  2016-01-01  2016      1    1     1       0   \n",
       "13  RWS01_MONIBAS_0021hrl0414ra  2016-01-01  2016      1    1     1       5   \n",
       "14  RWS01_MONIBAS_0021hrl0414ra  2016-01-01  2016      1    1     1      10   \n",
       "15  RWS01_MONIBAS_0021hrl0414ra  2016-01-01  2016      1    1     1      15   \n",
       "16  RWS01_MONIBAS_0021hrl0414ra  2016-01-01  2016      1    1     1      20   \n",
       "17  RWS01_MONIBAS_0021hrl0414ra  2016-01-01  2016      1    1     1      25   \n",
       "18  RWS01_MONIBAS_0021hrl0414ra  2016-01-01  2016      1    1     1      30   \n",
       "19  RWS01_MONIBAS_0021hrl0414ra  2016-01-01  2016      1    1     1      35   \n",
       "\n",
       "    day_of_week  weekend  totaal_aantal_rijstroken  intensiteit   avg_speed  \n",
       "0             4        0                         5        36.00  110.760833  \n",
       "1             4        0                         5        23.00  108.158261  \n",
       "2             4        0                         5        27.00  102.365926  \n",
       "3             4        0                         5        21.00  111.680952  \n",
       "4             4        0                         5        17.25  114.750724  \n",
       "5             4        0                         5        42.00  111.105238  \n",
       "6             4        0                         5        54.00  104.874444  \n",
       "7             4        0                         5        30.00  106.724666  \n",
       "8             4        0                         5        35.00  105.063714  \n",
       "9             4        0                         5        43.00  103.755814  \n",
       "10            4        0                         5        53.00  103.814717  \n",
       "11            4        0                         5        70.00  101.988000  \n",
       "12            4        0                         5        71.00   99.176760  \n",
       "13            4        0                         5       101.00  101.305445  \n",
       "14            4        0                         5        90.00  103.741333  \n",
       "15            4        0                         5       111.00   99.138559  \n",
       "16            4        0                         5       152.00   99.740395  \n",
       "17            4        0                         5       123.00   98.894878  \n",
       "18            4        0                         5       145.00   98.287103  \n",
       "19            4        0                         5       157.00  100.393758  "
      ]
     },
     "execution_count": 47,
     "metadata": {},
     "output_type": "execute_result"
    }
   ],
   "source": [
    "grouped_data.head(20)"
   ]
  },
  {
   "cell_type": "code",
   "execution_count": 48,
   "id": "f644b47c",
   "metadata": {},
   "outputs": [
    {
     "data": {
      "text/plain": [
       "(2917725, 12)"
      ]
     },
     "execution_count": 48,
     "metadata": {},
     "output_type": "execute_result"
    }
   ],
   "source": [
    "grouped_data.shape"
   ]
  },
  {
   "cell_type": "code",
   "execution_count": 49,
   "id": "7d76bb60",
   "metadata": {},
   "outputs": [
    {
     "data": {
      "text/plain": [
       "'test to see whether null variables'"
      ]
     },
     "execution_count": 49,
     "metadata": {},
     "output_type": "execute_result"
    }
   ],
   "source": [
    "'''test to see whether null variables'''\n",
    "#grouped_data.groupby('id_meetlocatie').apply(lambda x: x['avg_speed'].isnull().sum())"
   ]
  },
  {
   "cell_type": "code",
   "execution_count": 50,
   "id": "b0e96374",
   "metadata": {},
   "outputs": [],
   "source": [
    "#grouped_data['hour'] = pd.to_numeric(grouped_data['hour'], errors='coerce')"
   ]
  },
  {
   "cell_type": "code",
   "execution_count": 51,
   "id": "e5d53acf",
   "metadata": {},
   "outputs": [],
   "source": [
    "#grouped_data = grouped_data[(grouped_data['hour'] > 5)] "
   ]
  },
  {
   "cell_type": "code",
   "execution_count": 52,
   "id": "f4ce2d23",
   "metadata": {},
   "outputs": [],
   "source": [
    "#grouped_data = grouped_data[(grouped_data['hour'] < 21)]"
   ]
  },
  {
   "cell_type": "code",
   "execution_count": 53,
   "id": "c5077fcb",
   "metadata": {},
   "outputs": [],
   "source": [
    "holidays = pd.read_csv(\"holidays.csv\")"
   ]
  },
  {
   "cell_type": "code",
   "execution_count": 54,
   "id": "1987009c",
   "metadata": {},
   "outputs": [
    {
     "name": "stdout",
     "output_type": "stream",
     "text": [
      "Inferred date format: Multiple formats detected\n"
     ]
    }
   ],
   "source": [
    "import pandas as pd\n",
    "\n",
    "# Assuming holidays is your DataFrame and 'date' is the column containing dates\n",
    "# Convert 'date' column to datetime object\n",
    "holidays['date'] = pd.to_datetime(holidays['date'], errors='coerce')\n",
    "\n",
    "# Check unique values and infer date format\n",
    "unique_dates = holidays['date'].dropna().dt.strftime('%Y-%m-%d').unique()\n",
    "date_format = unique_dates[0] if len(unique_dates) == 1 else \"Multiple formats detected\"\n",
    "\n",
    "# Print the inferred date format\n",
    "print(\"Inferred date format:\", date_format)"
   ]
  },
  {
   "cell_type": "code",
   "execution_count": 55,
   "id": "3b68c721",
   "metadata": {},
   "outputs": [
    {
     "name": "stdout",
     "output_type": "stream",
     "text": [
      "Inferred date format: Multiple formats detected\n"
     ]
    }
   ],
   "source": [
    "grouped_data['date'] = pd.to_datetime(grouped_data['date'], errors='coerce')\n",
    "\n",
    "# Check unique values and infer date format\n",
    "unique_dates = grouped_data['date'].dropna().dt.strftime('%Y-%m-%d').unique()\n",
    "date_format = unique_dates[0] if len(unique_dates) == 1 else \"Multiple formats detected\"\n",
    "\n",
    "# Print the inferred date format\n",
    "print(\"Inferred date format:\", date_format)"
   ]
  },
  {
   "cell_type": "code",
   "execution_count": 56,
   "id": "ac20a4d0",
   "metadata": {},
   "outputs": [],
   "source": [
    "# Round the 'intensiteit' and 'alg_speed' columns to two decimals\n",
    "grouped_data['intensiteit'] = grouped_data['intensiteit'].round(2)\n",
    "grouped_data['avg_speed'] = grouped_data['avg_speed'].round(2)\n"
   ]
  },
  {
   "cell_type": "code",
   "execution_count": 57,
   "id": "2a3f468f",
   "metadata": {},
   "outputs": [],
   "source": [
    "merged_data = pd.merge(grouped_data, holidays, on='date', how='left')\n",
    "\n",
    "merged_data['is_public_holiday'] = merged_data['is_public_holiday'].fillna(0).astype(int)"
   ]
  },
  {
   "cell_type": "code",
   "execution_count": 58,
   "id": "ab3196cf",
   "metadata": {},
   "outputs": [
    {
     "data": {
      "text/html": [
       "<div>\n",
       "<style scoped>\n",
       "    .dataframe tbody tr th:only-of-type {\n",
       "        vertical-align: middle;\n",
       "    }\n",
       "\n",
       "    .dataframe tbody tr th {\n",
       "        vertical-align: top;\n",
       "    }\n",
       "\n",
       "    .dataframe thead th {\n",
       "        text-align: right;\n",
       "    }\n",
       "</style>\n",
       "<table border=\"1\" class=\"dataframe\">\n",
       "  <thead>\n",
       "    <tr style=\"text-align: right;\">\n",
       "      <th></th>\n",
       "      <th>id_meetlocatie</th>\n",
       "      <th>date</th>\n",
       "      <th>year</th>\n",
       "      <th>month</th>\n",
       "      <th>day</th>\n",
       "      <th>hour</th>\n",
       "      <th>minute</th>\n",
       "      <th>day_of_week</th>\n",
       "      <th>weekend</th>\n",
       "      <th>totaal_aantal_rijstroken</th>\n",
       "      <th>intensiteit</th>\n",
       "      <th>avg_speed</th>\n",
       "      <th>is_public_holiday</th>\n",
       "    </tr>\n",
       "  </thead>\n",
       "  <tbody>\n",
       "    <tr>\n",
       "      <th>0</th>\n",
       "      <td>RWS01_MONIBAS_0021hrl0414ra</td>\n",
       "      <td>2016-01-01</td>\n",
       "      <td>2016</td>\n",
       "      <td>1</td>\n",
       "      <td>1</td>\n",
       "      <td>0</td>\n",
       "      <td>0</td>\n",
       "      <td>4</td>\n",
       "      <td>0</td>\n",
       "      <td>5</td>\n",
       "      <td>36.00</td>\n",
       "      <td>110.76</td>\n",
       "      <td>1</td>\n",
       "    </tr>\n",
       "    <tr>\n",
       "      <th>1</th>\n",
       "      <td>RWS01_MONIBAS_0021hrl0414ra</td>\n",
       "      <td>2016-01-01</td>\n",
       "      <td>2016</td>\n",
       "      <td>1</td>\n",
       "      <td>1</td>\n",
       "      <td>0</td>\n",
       "      <td>5</td>\n",
       "      <td>4</td>\n",
       "      <td>0</td>\n",
       "      <td>5</td>\n",
       "      <td>23.00</td>\n",
       "      <td>108.16</td>\n",
       "      <td>1</td>\n",
       "    </tr>\n",
       "    <tr>\n",
       "      <th>2</th>\n",
       "      <td>RWS01_MONIBAS_0021hrl0414ra</td>\n",
       "      <td>2016-01-01</td>\n",
       "      <td>2016</td>\n",
       "      <td>1</td>\n",
       "      <td>1</td>\n",
       "      <td>0</td>\n",
       "      <td>10</td>\n",
       "      <td>4</td>\n",
       "      <td>0</td>\n",
       "      <td>5</td>\n",
       "      <td>27.00</td>\n",
       "      <td>102.37</td>\n",
       "      <td>1</td>\n",
       "    </tr>\n",
       "    <tr>\n",
       "      <th>3</th>\n",
       "      <td>RWS01_MONIBAS_0021hrl0414ra</td>\n",
       "      <td>2016-01-01</td>\n",
       "      <td>2016</td>\n",
       "      <td>1</td>\n",
       "      <td>1</td>\n",
       "      <td>0</td>\n",
       "      <td>15</td>\n",
       "      <td>4</td>\n",
       "      <td>0</td>\n",
       "      <td>5</td>\n",
       "      <td>21.00</td>\n",
       "      <td>111.68</td>\n",
       "      <td>1</td>\n",
       "    </tr>\n",
       "    <tr>\n",
       "      <th>4</th>\n",
       "      <td>RWS01_MONIBAS_0021hrl0414ra</td>\n",
       "      <td>2016-01-01</td>\n",
       "      <td>2016</td>\n",
       "      <td>1</td>\n",
       "      <td>1</td>\n",
       "      <td>0</td>\n",
       "      <td>20</td>\n",
       "      <td>4</td>\n",
       "      <td>0</td>\n",
       "      <td>5</td>\n",
       "      <td>17.25</td>\n",
       "      <td>114.75</td>\n",
       "      <td>1</td>\n",
       "    </tr>\n",
       "  </tbody>\n",
       "</table>\n",
       "</div>"
      ],
      "text/plain": [
       "                id_meetlocatie       date  year  month  day  hour  minute  \\\n",
       "0  RWS01_MONIBAS_0021hrl0414ra 2016-01-01  2016      1    1     0       0   \n",
       "1  RWS01_MONIBAS_0021hrl0414ra 2016-01-01  2016      1    1     0       5   \n",
       "2  RWS01_MONIBAS_0021hrl0414ra 2016-01-01  2016      1    1     0      10   \n",
       "3  RWS01_MONIBAS_0021hrl0414ra 2016-01-01  2016      1    1     0      15   \n",
       "4  RWS01_MONIBAS_0021hrl0414ra 2016-01-01  2016      1    1     0      20   \n",
       "\n",
       "   day_of_week  weekend  totaal_aantal_rijstroken  intensiteit  avg_speed  \\\n",
       "0            4        0                         5        36.00     110.76   \n",
       "1            4        0                         5        23.00     108.16   \n",
       "2            4        0                         5        27.00     102.37   \n",
       "3            4        0                         5        21.00     111.68   \n",
       "4            4        0                         5        17.25     114.75   \n",
       "\n",
       "   is_public_holiday  \n",
       "0                  1  \n",
       "1                  1  \n",
       "2                  1  \n",
       "3                  1  \n",
       "4                  1  "
      ]
     },
     "execution_count": 58,
     "metadata": {},
     "output_type": "execute_result"
    }
   ],
   "source": [
    "merged_data.head()"
   ]
  },
  {
   "cell_type": "code",
   "execution_count": 59,
   "id": "a965352b",
   "metadata": {},
   "outputs": [],
   "source": [
    "merged_data.to_csv('Preprocessed_5min_2016_2017.csv', index=False)"
   ]
  },
  {
   "cell_type": "code",
   "execution_count": null,
   "id": "01c0aa43",
   "metadata": {},
   "outputs": [],
   "source": []
  }
 ],
 "metadata": {
  "kernelspec": {
   "display_name": "Python 3 (ipykernel)",
   "language": "python",
   "name": "python3"
  },
  "language_info": {
   "codemirror_mode": {
    "name": "ipython",
    "version": 3
   },
   "file_extension": ".py",
   "mimetype": "text/x-python",
   "name": "python",
   "nbconvert_exporter": "python",
   "pygments_lexer": "ipython3",
   "version": "3.10.11"
  }
 },
 "nbformat": 4,
 "nbformat_minor": 5
}
