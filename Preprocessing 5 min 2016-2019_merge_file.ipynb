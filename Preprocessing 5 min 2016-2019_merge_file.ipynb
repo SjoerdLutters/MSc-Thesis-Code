{
 "cells": [
  {
   "cell_type": "code",
   "execution_count": 1,
   "id": "7261d27a",
   "metadata": {},
   "outputs": [],
   "source": [
    "import pandas as pd\n",
    "import numpy as np"
   ]
  },
  {
   "cell_type": "code",
   "execution_count": 2,
   "id": "e7327b0e",
   "metadata": {},
   "outputs": [],
   "source": [
    "data1 = pd.read_csv(\"Preprocessed_5min_2016_2017.csv\")\n",
    "data2 = pd.read_csv(\"Preprocessed_5min_2018_2019.csv\")\n",
    "data3 = pd.read_csv(\"Preprocessed_5min_2016_2019_altLocations.csv\")"
   ]
  },
  {
   "cell_type": "code",
   "execution_count": 3,
   "id": "283a6697",
   "metadata": {},
   "outputs": [
    {
     "data": {
      "text/html": [
       "<div>\n",
       "<style scoped>\n",
       "    .dataframe tbody tr th:only-of-type {\n",
       "        vertical-align: middle;\n",
       "    }\n",
       "\n",
       "    .dataframe tbody tr th {\n",
       "        vertical-align: top;\n",
       "    }\n",
       "\n",
       "    .dataframe thead th {\n",
       "        text-align: right;\n",
       "    }\n",
       "</style>\n",
       "<table border=\"1\" class=\"dataframe\">\n",
       "  <thead>\n",
       "    <tr style=\"text-align: right;\">\n",
       "      <th></th>\n",
       "      <th>id_meetlocatie</th>\n",
       "      <th>date</th>\n",
       "      <th>year</th>\n",
       "      <th>month</th>\n",
       "      <th>day</th>\n",
       "      <th>hour</th>\n",
       "      <th>minute</th>\n",
       "      <th>day_of_week</th>\n",
       "      <th>weekend</th>\n",
       "      <th>totaal_aantal_rijstroken</th>\n",
       "      <th>intensiteit</th>\n",
       "      <th>avg_speed</th>\n",
       "      <th>is_public_holiday</th>\n",
       "    </tr>\n",
       "  </thead>\n",
       "  <tbody>\n",
       "    <tr>\n",
       "      <th>0</th>\n",
       "      <td>RWS01_MONIBAS_0021hrl0414ra</td>\n",
       "      <td>2016-01-01</td>\n",
       "      <td>2016</td>\n",
       "      <td>1</td>\n",
       "      <td>1</td>\n",
       "      <td>0</td>\n",
       "      <td>0</td>\n",
       "      <td>4</td>\n",
       "      <td>0</td>\n",
       "      <td>5</td>\n",
       "      <td>36.00</td>\n",
       "      <td>110.76</td>\n",
       "      <td>1</td>\n",
       "    </tr>\n",
       "    <tr>\n",
       "      <th>1</th>\n",
       "      <td>RWS01_MONIBAS_0021hrl0414ra</td>\n",
       "      <td>2016-01-01</td>\n",
       "      <td>2016</td>\n",
       "      <td>1</td>\n",
       "      <td>1</td>\n",
       "      <td>0</td>\n",
       "      <td>5</td>\n",
       "      <td>4</td>\n",
       "      <td>0</td>\n",
       "      <td>5</td>\n",
       "      <td>23.00</td>\n",
       "      <td>108.16</td>\n",
       "      <td>1</td>\n",
       "    </tr>\n",
       "    <tr>\n",
       "      <th>2</th>\n",
       "      <td>RWS01_MONIBAS_0021hrl0414ra</td>\n",
       "      <td>2016-01-01</td>\n",
       "      <td>2016</td>\n",
       "      <td>1</td>\n",
       "      <td>1</td>\n",
       "      <td>0</td>\n",
       "      <td>10</td>\n",
       "      <td>4</td>\n",
       "      <td>0</td>\n",
       "      <td>5</td>\n",
       "      <td>27.00</td>\n",
       "      <td>102.37</td>\n",
       "      <td>1</td>\n",
       "    </tr>\n",
       "    <tr>\n",
       "      <th>3</th>\n",
       "      <td>RWS01_MONIBAS_0021hrl0414ra</td>\n",
       "      <td>2016-01-01</td>\n",
       "      <td>2016</td>\n",
       "      <td>1</td>\n",
       "      <td>1</td>\n",
       "      <td>0</td>\n",
       "      <td>15</td>\n",
       "      <td>4</td>\n",
       "      <td>0</td>\n",
       "      <td>5</td>\n",
       "      <td>21.00</td>\n",
       "      <td>111.68</td>\n",
       "      <td>1</td>\n",
       "    </tr>\n",
       "    <tr>\n",
       "      <th>4</th>\n",
       "      <td>RWS01_MONIBAS_0021hrl0414ra</td>\n",
       "      <td>2016-01-01</td>\n",
       "      <td>2016</td>\n",
       "      <td>1</td>\n",
       "      <td>1</td>\n",
       "      <td>0</td>\n",
       "      <td>20</td>\n",
       "      <td>4</td>\n",
       "      <td>0</td>\n",
       "      <td>5</td>\n",
       "      <td>17.25</td>\n",
       "      <td>114.75</td>\n",
       "      <td>1</td>\n",
       "    </tr>\n",
       "  </tbody>\n",
       "</table>\n",
       "</div>"
      ],
      "text/plain": [
       "                id_meetlocatie        date  year  month  day  hour  minute  \\\n",
       "0  RWS01_MONIBAS_0021hrl0414ra  2016-01-01  2016      1    1     0       0   \n",
       "1  RWS01_MONIBAS_0021hrl0414ra  2016-01-01  2016      1    1     0       5   \n",
       "2  RWS01_MONIBAS_0021hrl0414ra  2016-01-01  2016      1    1     0      10   \n",
       "3  RWS01_MONIBAS_0021hrl0414ra  2016-01-01  2016      1    1     0      15   \n",
       "4  RWS01_MONIBAS_0021hrl0414ra  2016-01-01  2016      1    1     0      20   \n",
       "\n",
       "   day_of_week  weekend  totaal_aantal_rijstroken  intensiteit  avg_speed  \\\n",
       "0            4        0                         5        36.00     110.76   \n",
       "1            4        0                         5        23.00     108.16   \n",
       "2            4        0                         5        27.00     102.37   \n",
       "3            4        0                         5        21.00     111.68   \n",
       "4            4        0                         5        17.25     114.75   \n",
       "\n",
       "   is_public_holiday  \n",
       "0                  1  \n",
       "1                  1  \n",
       "2                  1  \n",
       "3                  1  \n",
       "4                  1  "
      ]
     },
     "execution_count": 3,
     "metadata": {},
     "output_type": "execute_result"
    }
   ],
   "source": [
    "stacked_data = pd.concat([data1, data2, data3], axis=0)\n",
    "\n",
    "# Reset index if needed\n",
    "#stacked_data.reset_index(drop=True, inplace=True)\n",
    "\n",
    "# Display the stacked DataFrame\n",
    "stacked_data.head()"
   ]
  },
  {
   "cell_type": "code",
   "execution_count": 4,
   "id": "e6371f76",
   "metadata": {},
   "outputs": [
    {
     "name": "stdout",
     "output_type": "stream",
     "text": [
      "2019    2308561\n",
      "2016    2307207\n",
      "2017    2294550\n",
      "2018    2152132\n",
      "Name: year, dtype: int64\n"
     ]
    }
   ],
   "source": [
    "date_counts = stacked_data['year'].value_counts()\n",
    "\n",
    "print(date_counts.head(950))"
   ]
  },
  {
   "cell_type": "code",
   "execution_count": 5,
   "id": "81c2354e",
   "metadata": {},
   "outputs": [
    {
     "data": {
      "text/plain": [
       "(9062450, 13)"
      ]
     },
     "execution_count": 5,
     "metadata": {},
     "output_type": "execute_result"
    }
   ],
   "source": [
    "stacked_data.shape"
   ]
  },
  {
   "cell_type": "code",
   "execution_count": 6,
   "id": "43ab4129",
   "metadata": {},
   "outputs": [],
   "source": [
    "stacked_data.to_csv('Preprocessed_5min_2016_2019.csv', index=False)"
   ]
  },
  {
   "cell_type": "code",
   "execution_count": null,
   "id": "776f151a",
   "metadata": {},
   "outputs": [],
   "source": []
  }
 ],
 "metadata": {
  "kernelspec": {
   "display_name": "Python 3 (ipykernel)",
   "language": "python",
   "name": "python3"
  },
  "language_info": {
   "codemirror_mode": {
    "name": "ipython",
    "version": 3
   },
   "file_extension": ".py",
   "mimetype": "text/x-python",
   "name": "python",
   "nbconvert_exporter": "python",
   "pygments_lexer": "ipython3",
   "version": "3.11.4"
  }
 },
 "nbformat": 4,
 "nbformat_minor": 5
}
