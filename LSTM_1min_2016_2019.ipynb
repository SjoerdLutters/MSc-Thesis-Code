{
  "nbformat": 4,
  "nbformat_minor": 0,
  "metadata": {
    "colab": {
      "provenance": [],
      "machine_shape": "hm",
      "gpuType": "V28"
    },
    "kernelspec": {
      "name": "python3",
      "display_name": "Python 3"
    },
    "language_info": {
      "name": "python"
    },
    "accelerator": "TPU"
  },
  "cells": [
    {
      "cell_type": "code",
      "execution_count": null,
      "metadata": {
        "id": "eHvu6K-iU9uD"
      },
      "outputs": [],
      "source": [
        "import pandas as pd\n",
        "import numpy as np"
      ]
    },
    {
      "cell_type": "code",
      "source": [
        "from google.colab import drive\n",
        "drive.mount('/content/drive')\n"
      ],
      "metadata": {
        "colab": {
          "base_uri": "https://localhost:8080/"
        },
        "id": "YFHzSLEjbA6o",
        "outputId": "f7a84c89-1f6c-4af5-cb0e-088e66c879f4"
      },
      "execution_count": null,
      "outputs": [
        {
          "output_type": "stream",
          "name": "stdout",
          "text": [
            "Mounted at /content/drive\n"
          ]
        }
      ]
    },
    {
      "cell_type": "code",
      "source": [
        "# Navigate to the directory where your file is located\n",
        "import os\n",
        "os.chdir('/content/drive/MyDrive/Data MSc thesis')\n",
        "\n",
        "# Read the CSV file\n",
        "train_data = pd.read_csv(\"train_encoded.csv\")\n",
        "val_data = pd.read_csv(\"val_encoded.csv\")\n",
        "test_data = pd.read_csv(\"test_encoded.csv\")"
      ],
      "metadata": {
        "id": "42IcdLLvm-n1"
      },
      "execution_count": null,
      "outputs": []
    },
    {
      "cell_type": "code",
      "source": [
        "!pip install keras-tuner\n"
      ],
      "metadata": {
        "id": "-n8v022J6GCV",
        "colab": {
          "base_uri": "https://localhost:8080/"
        },
        "outputId": "37eb1853-7475-4e87-b4b1-b6051453e79b"
      },
      "execution_count": null,
      "outputs": [
        {
          "output_type": "stream",
          "name": "stdout",
          "text": [
            "Collecting keras-tuner\n",
            "  Downloading keras_tuner-1.4.7-py3-none-any.whl (129 kB)\n",
            "\u001b[2K     \u001b[90m━━━━━━━━━━━━━━━━━━━━━━━━━━━━━━━━━━━━━━━━\u001b[0m \u001b[32m129.1/129.1 kB\u001b[0m \u001b[31m1.4 MB/s\u001b[0m eta \u001b[36m0:00:00\u001b[0m\n",
            "\u001b[?25hRequirement already satisfied: keras in /usr/local/lib/python3.10/dist-packages (from keras-tuner) (2.15.0)\n",
            "Requirement already satisfied: packaging in /usr/local/lib/python3.10/dist-packages (from keras-tuner) (24.0)\n",
            "Requirement already satisfied: requests in /usr/local/lib/python3.10/dist-packages (from keras-tuner) (2.31.0)\n",
            "Collecting kt-legacy (from keras-tuner)\n",
            "  Downloading kt_legacy-1.0.5-py3-none-any.whl (9.6 kB)\n",
            "Requirement already satisfied: charset-normalizer<4,>=2 in /usr/local/lib/python3.10/dist-packages (from requests->keras-tuner) (3.3.2)\n",
            "Requirement already satisfied: idna<4,>=2.5 in /usr/local/lib/python3.10/dist-packages (from requests->keras-tuner) (3.7)\n",
            "Requirement already satisfied: urllib3<3,>=1.21.1 in /usr/local/lib/python3.10/dist-packages (from requests->keras-tuner) (2.0.7)\n",
            "Requirement already satisfied: certifi>=2017.4.17 in /usr/local/lib/python3.10/dist-packages (from requests->keras-tuner) (2024.2.2)\n",
            "Installing collected packages: kt-legacy, keras-tuner\n",
            "Successfully installed keras-tuner-1.4.7 kt-legacy-1.0.5\n"
          ]
        }
      ]
    },
    {
      "cell_type": "code",
      "source": [
        "import tensorflow as tf\n",
        "from tensorflow.keras.models import Sequential\n",
        "from tensorflow.keras.layers import LSTM, Dense, Bidirectional, Dropout\n",
        "from tensorflow.keras.callbacks import EarlyStopping\n",
        "from sklearn.metrics import mean_squared_error, mean_absolute_error\n",
        "from kerastuner.tuners import RandomSearch\n",
        "\n",
        "# Set random seed for TensorFlow\n",
        "tf.random.set_seed(42)\n",
        "\n",
        "# Set random seed for numpy operations\n",
        "np.random.seed(42)\n",
        "\n",
        "# Define the features and target variable\n",
        "X_train = train_data.drop(columns=['avg_speed']).values\n",
        "y_train = train_data['avg_speed'].values\n",
        "\n",
        "X_val = val_data.drop(columns=['avg_speed']).values\n",
        "y_val = val_data['avg_speed'].values\n",
        "\n",
        "X_test = test_data.drop(columns=['avg_speed']).values\n",
        "y_test = test_data['avg_speed'].values\n",
        "\n",
        "# Convert X_train to float32\n",
        "X_train = X_train.astype('float32')\n",
        "y_train = y_train.astype('float32')\n",
        "\n",
        "X_val = X_val.astype('float32')\n",
        "y_val = y_val.astype('float32')\n",
        "\n",
        "X_test = X_test.astype('float32')\n",
        "y_test = y_test.astype('float32')\n",
        "\n",
        "# Reshape data for LSTM input: (samples, time steps, features)\n",
        "X_train = X_train.reshape((X_train.shape[0] // 5, 5, X_train.shape[1]))\n",
        "X_val = X_val.reshape((X_val.shape[0] // 5, 5, X_val.shape[1]))\n",
        "X_test = X_test.reshape((X_test.shape[0] // 5, 5, X_test.shape[1]))\n",
        "\n",
        "# Reshape target variables\n",
        "y_train = y_train.reshape((y_train.shape[0] // 5, 5))\n",
        "y_val = y_val.reshape((y_val.shape[0] // 5, 5))\n",
        "y_test = y_test.reshape((y_test.shape[0] // 5, 5))\n",
        "\n",
        "def build_model(hp):\n",
        "    model = Sequential()\n",
        "    model.add(Bidirectional(LSTM(units=hp.Int('units', min_value=160, max_value=256, step=32),\n",
        "                                  input_shape=(X_train.shape[1], X_train.shape[2]))))\n",
        "    model.add(Dense(224, activation='relu'))\n",
        "    model.add(Dropout(hp.Float('dropout_rate', min_value=0.2, max_value=0.4, step=0.1)))\n",
        "    model.add(Dense(5))\n",
        "\n",
        "    # Define the learning rate parameter\n",
        "    hp_learning_rate = hp.Choice('learning_rate', values=[3e-4])\n",
        "\n",
        "    # Compile the model with the specified learning rate\n",
        "    model.compile(optimizer=tf.keras.optimizers.Adam(learning_rate=hp_learning_rate), loss='mean_squared_error')\n",
        "\n",
        "    return model\n",
        "\n",
        "tuner = RandomSearch(\n",
        "    build_model,\n",
        "    objective='val_loss',\n",
        "    max_trials=3,\n",
        "    executions_per_trial=1,\n",
        "    directory='hyperparameter_tuning',\n",
        "    project_name='bidirectional_lstm_hyperparameter_tuning_1min_2016_2019v6_1'\n",
        ")\n",
        "\n",
        "tuner.search(X_train, y_train, epochs=60, batch_size=75, validation_data=(X_val, y_val), callbacks=[EarlyStopping(patience=3)])\n",
        "\n",
        "best_model = tuner.get_best_models(num_models=1)[0]\n",
        "\n",
        "# Print the hyperparameters used in the best model\n",
        "print(\"Best hyperparameters:\")\n",
        "best_hyperparameters = tuner.get_best_hyperparameters(num_trials=1)[0]\n",
        "print(best_hyperparameters.values)\n",
        "\n",
        "# Predict on the validation set for hyperparameter tuning\n",
        "y_val_pred = best_model.predict(X_val).reshape((-1,))\n",
        "\n",
        "# Calculate RMSE and MAE on the validation set\n",
        "rmse_val = np.sqrt(mean_squared_error(y_val.reshape((-1,)), y_val_pred))\n",
        "mae_val = mean_absolute_error(y_val.reshape((-1,)), y_val_pred)\n",
        "\n",
        "print(\"Validation set metrics:\")\n",
        "print(\"RMSE:\", rmse_val)\n",
        "print(\"MAE:\", mae_val)\n",
        "\n",
        "# Predict on the test set\n",
        "y_test_pred = best_model.predict(X_test).reshape((-1,))\n",
        "\n",
        "# Calculate RMSE and MAE on the test set\n",
        "rmse_test = np.sqrt(mean_squared_error(y_test.reshape((-1,)), y_test_pred))\n",
        "mae_test = mean_absolute_error(y_test.reshape((-1,)), y_test_pred)\n",
        "\n",
        "print(\"\\nTest set metrics:\")\n",
        "print(\"RMSE:\", rmse_test)\n",
        "print(\"MAE:\", mae_test)\n",
        "\n",
        "# Append predictions to validation and test data\n",
        "#val_data['predictions_lstm_15min_2016_2019'] = y_val_pred\n",
        "test_data['predictions_lstm_1min_2016_2019'] = y_test_pred\n",
        "\n",
        "# Save predictions to new dataframes\n",
        "#predictions_val_lstm_15min = val_data.copy()\n",
        "predictions_test_lstm_15min = test_data.copy()\n",
        "\n",
        "# Optionally, you can save these dataframes to CSV files\n",
        "#predictions_val_lstm_15min.to_csv('predictions_val_lstm_1min_2016_2019.csv', index=False)\n",
        "predictions_test_lstm_15min.to_csv('predictions_test_lstm_1min_2016_2019_new.csv', index=False)"
      ],
      "metadata": {
        "colab": {
          "base_uri": "https://localhost:8080/"
        },
        "id": "sL_sJwAg3PXv",
        "outputId": "d8d8f4b5-1adb-4049-b005-9416ea65f5b3"
      },
      "execution_count": null,
      "outputs": [
        {
          "output_type": "stream",
          "name": "stdout",
          "text": [
            "Trial 3 Complete [01h 49m 47s]\n",
            "val_loss: 185.07351684570312\n",
            "\n",
            "Best val_loss So Far: 185.07351684570312\n",
            "Total elapsed time: 04h 58m 15s\n",
            "Best hyperparameters:\n",
            "{'units': 192, 'dropout_rate': 0.30000000000000004, 'learning_rate': 0.0003}\n",
            "26316/26316 [==============================] - 118s 4ms/step\n",
            "Validation set metrics:\n",
            "RMSE: 13.604189\n",
            "MAE: 7.959712\n",
            "57454/57454 [==============================] - 253s 4ms/step\n",
            "\n",
            "Test set metrics:\n",
            "RMSE: 32.77164\n",
            "MAE: 14.447698\n"
          ]
        }
      ]
    },
    {
      "cell_type": "code",
      "source": [
        "import os\n",
        "os.kill(os.getpid(), 9)\n"
      ],
      "metadata": {
        "id": "elAyR71y9UEy"
      },
      "execution_count": null,
      "outputs": []
    },
    {
      "cell_type": "code",
      "source": [],
      "metadata": {
        "id": "lfENEFhCiF7H"
      },
      "execution_count": null,
      "outputs": []
    }
  ]
}