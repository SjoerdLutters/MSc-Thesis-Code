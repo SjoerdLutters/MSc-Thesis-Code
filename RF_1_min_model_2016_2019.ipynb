{
  "cells": [
    {
      "cell_type": "code",
      "execution_count": null,
      "metadata": {
        "id": "eHvu6K-iU9uD"
      },
      "outputs": [],
      "source": [
        "import pandas as pd\n",
        "import numpy as np"
      ]
    },
    {
      "cell_type": "code",
      "execution_count": null,
      "metadata": {
        "colab": {
          "base_uri": "https://localhost:8080/"
        },
        "id": "YFHzSLEjbA6o",
        "outputId": "388230bf-d148-49a0-a135-df27cf9a6cb9"
      },
      "outputs": [
        {
          "name": "stdout",
          "output_type": "stream",
          "text": [
            "Mounted at /content/drive\n"
          ]
        }
      ],
      "source": [
        "from google.colab import drive\n",
        "drive.mount('/content/drive')\n"
      ]
    },
    {
      "cell_type": "code",
      "execution_count": null,
      "metadata": {
        "colab": {
          "background_save": true
        },
        "id": "42IcdLLvm-n1"
      },
      "outputs": [],
      "source": [
        "# Navigate to the directory where your file is located\n",
        "import os\n",
        "os.chdir('/content/drive/MyDrive/Data MSc thesis')\n",
        "\n",
        "# Read the CSV file\n",
        "data = pd.read_csv(\"Preprocessed_1min_2016_2019.csv\")"
      ]
    },
    {
      "cell_type": "code",
      "execution_count": null,
      "metadata": {
        "id": "cwY_jwKi-ECQ"
      },
      "outputs": [],
      "source": [
        "import pandas as pd\n",
        "\n",
        "# Assuming 'year' is a column in your DataFrame 'data'\n",
        "data_year_encoded = pd.get_dummies(data, columns=['year'])"
      ]
    },
    {
      "cell_type": "code",
      "execution_count": null,
      "metadata": {
        "colab": {
          "background_save": true
        },
        "id": "MBQLt7SF-D43"
      },
      "outputs": [],
      "source": [
        "import pandas as pd\n",
        "\n",
        "# Assuming 'month' is a column in your DataFrame 'data_year_encoded'\n",
        "# Map the month numbers to month names\n",
        "month_names = {1: 'January', 2: 'February', 3: 'March', 4: 'April', 5: 'May', 6: 'June',\n",
        "               7: 'July', 8: 'August', 9: 'September', 10: 'October', 11: 'November', 12: 'December'}\n",
        "\n",
        "# Map month numbers to month names and then one-hot encode\n",
        "data_month_encoded = pd.get_dummies(data_year_encoded, columns=['month'])\n",
        "data_month_encoded.rename(columns=month_names, inplace=True)"
      ]
    },
    {
      "cell_type": "code",
      "execution_count": null,
      "metadata": {
        "colab": {
          "background_save": true
        },
        "id": "QhnEJi1z-Du4"
      },
      "outputs": [],
      "source": [
        "data_day_encoded = pd.get_dummies(data_month_encoded, columns=['day'])\n",
        "#data_month_encoded.rename(columns=month_names, inplace=True)"
      ]
    },
    {
      "cell_type": "code",
      "execution_count": null,
      "metadata": {
        "id": "U1YYEf2p-DnW"
      },
      "outputs": [],
      "source": [
        "data_dayofweek_encoded = pd.get_dummies(data_day_encoded, columns=['day_of_week'])\n",
        "#data_month_encoded.rename(columns=month_names, inplace=True)"
      ]
    },
    {
      "cell_type": "code",
      "execution_count": null,
      "metadata": {
        "id": "8Irb2Lav-Dek"
      },
      "outputs": [],
      "source": [
        "# Assuming 'weekend' is the column containing integer values (0 and 1)\n",
        "data_dayofweek_encoded['weekend'] = data_dayofweek_encoded['weekend'].astype(bool)\n",
        "data_dayofweek_encoded['is_public_holiday'] = data_dayofweek_encoded['is_public_holiday'].astype(bool)"
      ]
    },
    {
      "cell_type": "code",
      "execution_count": null,
      "metadata": {
        "id": "iRC1Qb-5-DXd"
      },
      "outputs": [],
      "source": [
        "data_hour_encoded = pd.get_dummies(data_dayofweek_encoded, columns=['hour'])\n",
        "#data_month_encoded.rename(columns=month_names, inplace=True)"
      ]
    },
    {
      "cell_type": "code",
      "execution_count": null,
      "metadata": {
        "id": "tOWFKlBy-DPu"
      },
      "outputs": [],
      "source": [
        "data_minute_encoded = pd.get_dummies(data_hour_encoded, columns=['minute'])\n",
        "#data_month_encoded.rename(columns=month_names, inplace=True)"
      ]
    },
    {
      "cell_type": "code",
      "execution_count": null,
      "metadata": {
        "id": "H5PxocRO-DKO"
      },
      "outputs": [],
      "source": [
        "from sklearn.preprocessing import StandardScaler\n",
        "\n",
        "# Assuming 'intensiteit' is the column you want to standardize\n",
        "intensiteit_values = data_minute_encoded['intensiteit'].values.reshape(-1, 1)\n",
        "\n",
        "# Initialize the StandardScaler\n",
        "scaler = StandardScaler()\n",
        "\n",
        "# Fit the scaler to the intensiteit values and transform them\n",
        "intensiteit_scaled = scaler.fit_transform(intensiteit_values)\n",
        "\n",
        "# Replace the 'intensiteit' column with the standardized values\n",
        "data_minute_encoded['intensiteit'] = intensiteit_scaled"
      ]
    },
    {
      "cell_type": "code",
      "execution_count": null,
      "metadata": {
        "id": "tavkPLh6-DEe"
      },
      "outputs": [],
      "source": [
        "# Sort the data by id_meetlocatie and date\n",
        "data1 = data_minute_encoded.sort_values(by=[\"id_meetlocatie\", \"date\"])\n",
        "\n",
        "# Group by id_meetlocatie and add the lagged feature\n",
        "data1[\"avg_speed_t-1\"] = data1.groupby(\"id_meetlocatie\")[\"avg_speed\"].shift(1)"
      ]
    },
    {
      "cell_type": "code",
      "execution_count": null,
      "metadata": {
        "id": "l1UKWP-o-C_D"
      },
      "outputs": [],
      "source": [
        "# Sort the data by id_meetlocatie and date\n",
        "data2 = data1.sort_values(by=[\"id_meetlocatie\", \"date\"])\n",
        "\n",
        "# Group by id_meetlocatie and add the lagged feature\n",
        "data2[\"avg_speed_t-2\"] = data2.groupby(\"id_meetlocatie\")[\"avg_speed_t-1\"].shift(1)"
      ]
    },
    {
      "cell_type": "code",
      "execution_count": null,
      "metadata": {
        "id": "rOPccr87-C5T"
      },
      "outputs": [],
      "source": [
        "# Sort the data by id_meetlocatie and date\n",
        "data3 = data2.sort_values(by=[\"id_meetlocatie\", \"date\"])\n",
        "\n",
        "# Group by id_meetlocatie and add the lagged feature\n",
        "data3[\"avg_speed_t-3\"] = data3.groupby(\"id_meetlocatie\")[\"avg_speed_t-2\"].shift(1)"
      ]
    },
    {
      "cell_type": "code",
      "execution_count": null,
      "metadata": {
        "id": "GZTRqJe1-CzX"
      },
      "outputs": [],
      "source": [
        "data4 = data3.dropna(subset=['avg_speed_t-1', 'avg_speed_t-2', 'avg_speed_t-3'])"
      ]
    },
    {
      "cell_type": "code",
      "execution_count": null,
      "metadata": {
        "colab": {
          "base_uri": "https://localhost:8080/"
        },
        "id": "fl-SjugS-Csf",
        "outputId": "0ff9deda-d9d3-40d0-b06e-41ddd565645f"
      },
      "outputs": [
        {
          "name": "stderr",
          "output_type": "stream",
          "text": [
            "<ipython-input-16-94757408da41>:10: SettingWithCopyWarning: \n",
            "A value is trying to be set on a copy of a slice from a DataFrame.\n",
            "Try using .loc[row_indexer,col_indexer] = value instead\n",
            "\n",
            "See the caveats in the documentation: https://pandas.pydata.org/pandas-docs/stable/user_guide/indexing.html#returning-a-view-versus-a-copy\n",
            "  data4[columns_to_standardize] = scaler.fit_transform(data4[columns_to_standardize])\n"
          ]
        }
      ],
      "source": [
        "from sklearn.preprocessing import StandardScaler\n",
        "\n",
        "# Columns to standardize\n",
        "columns_to_standardize = ['avg_speed_t-1', 'avg_speed_t-2', 'avg_speed_t-3']\n",
        "\n",
        "# Initialize the StandardScaler\n",
        "scaler = StandardScaler()\n",
        "\n",
        "# Fit the scaler to the selected columns and transform them\n",
        "data4[columns_to_standardize] = scaler.fit_transform(data4[columns_to_standardize])"
      ]
    },
    {
      "cell_type": "code",
      "execution_count": null,
      "metadata": {
        "id": "WaRFeET2-CoX"
      },
      "outputs": [],
      "source": [
        "encoded_data = pd.get_dummies(data4, columns=['id_meetlocatie'])"
      ]
    },
    {
      "cell_type": "code",
      "execution_count": null,
      "metadata": {
        "colab": {
          "base_uri": "https://localhost:8080/"
        },
        "id": "75WgxJJn-CiN",
        "outputId": "68b24d4d-9501-40f4-fd1b-8fcc97594d22"
      },
      "outputs": [
        {
          "data": {
            "text/plain": [
              "(44894745, 169)"
            ]
          },
          "execution_count": 18,
          "metadata": {},
          "output_type": "execute_result"
        }
      ],
      "source": [
        "encoded_data.shape"
      ]
    },
    {
      "cell_type": "code",
      "execution_count": null,
      "metadata": {
        "id": "dMTa2COfbWug"
      },
      "outputs": [],
      "source": [
        "# vanaf 15 maart 2019 test split\n",
        "# 19 oktober 2018 val split\n",
        "# tot 19 oktober 2018 train split"
      ]
    },
    {
      "cell_type": "code",
      "execution_count": null,
      "metadata": {
        "id": "tQjTmMsrbiGI"
      },
      "outputs": [],
      "source": [
        "import pandas as pd\n",
        "\n",
        "# Assuming 'data' is your DataFrame containing the dataset\n",
        "\n",
        "# Convert 'date' column to datetime type\n",
        "encoded_data['date'] = pd.to_datetime(encoded_data['date'])\n",
        "\n",
        "# Perform train-validation-test split based on date\n",
        "train_data = encoded_data[encoded_data['date'] < '2018-10-19']\n",
        "test_data = encoded_data[encoded_data['date'] > '2019-03-14']\n",
        "val_data = encoded_data[(encoded_data['date'] >= '2018-10-19') & (encoded_data['date'] <= '2019-03-14')]\n",
        "\n",
        "# Optionally, you may reset the index of each split DataFrame\n",
        "train_data.reset_index(drop=True, inplace=True)\n",
        "test_data.reset_index(drop=True, inplace=True)\n",
        "val_data.reset_index(drop=True, inplace=True)\n"
      ]
    },
    {
      "cell_type": "code",
      "execution_count": null,
      "metadata": {
        "id": "CZ3x9QFnbm9o"
      },
      "outputs": [],
      "source": [
        "train_data = train_data.drop(columns=['date'])\n",
        "val_data = val_data.drop(columns=['date'])\n",
        "test_data = test_data.drop(columns=['date'])"
      ]
    },
    {
      "cell_type": "code",
      "execution_count": null,
      "metadata": {
        "colab": {
          "base_uri": "https://localhost:8080/"
        },
        "id": "FagSzBjMAZTu",
        "outputId": "ba29f60d-4916-4a60-90b3-b627f08c396e"
      },
      "outputs": [
        {
          "name": "stdout",
          "output_type": "stream",
          "text": [
            "(31491735, 168)\n",
            "(4210511, 168)\n",
            "(9192499, 168)\n"
          ]
        }
      ],
      "source": [
        "print(train_data.shape)\n",
        "print(val_data.shape)\n",
        "print(test_data.shape)"
      ]
    },
    {
      "cell_type": "code",
      "execution_count": null,
      "metadata": {
        "colab": {
          "base_uri": "https://localhost:8080/"
        },
        "id": "yNeXNMgWJp5D",
        "outputId": "51b523b6-94f0-4f28-e354-621d6d90ddb4"
      },
      "outputs": [
        {
          "name": "stdout",
          "output_type": "stream",
          "text": [
            "Fitting 3 folds for each of 3 candidates, totalling 9 fits\n"
          ]
        }
      ],
      "source": [
        "from sklearn.ensemble import RandomForestRegressor\n",
        "from sklearn.model_selection import RandomizedSearchCV\n",
        "from sklearn.metrics import mean_squared_error, mean_absolute_error\n",
        "import numpy as np\n",
        "\n",
        "\n",
        "# Extract features and target variable from train, validation, and test sets\n",
        "X_train = train_data.drop(columns=['avg_speed'])\n",
        "y_train = train_data['avg_speed']\n",
        "\n",
        "X_val = val_data.drop(columns=['avg_speed'])\n",
        "y_val = val_data['avg_speed']\n",
        "\n",
        "X_test = test_data.drop(columns=['avg_speed'])\n",
        "y_test = test_data['avg_speed']\n",
        "\n",
        "# Define hyperparameters for the Random Forest\n",
        "n_estimators = 200\n",
        "max_depth = 200\n",
        "min_samples_split = 2\n",
        "min_samples_leaf = 3\n",
        "max_features = 'log2'\n",
        "\n",
        "# Initialize Random Forest regressor with predefined hyperparameters\n",
        "rf_regressor = RandomForestRegressor(n_estimators=n_estimators,\n",
        "                                      max_depth=max_depth,\n",
        "                                      min_samples_split=min_samples_split,\n",
        "                                      min_samples_leaf=min_samples_leaf,\n",
        "                                      max_features=max_features,\n",
        "                                      random_state=42, n_jobs = -1)\n",
        "\n",
        "# Fit the Random Forest model on the training data\n",
        "rf_regressor.fit(X_train, y_train)\n",
        "\n",
        "# Predict on the validation set\n",
        "y_val_pred = rf_regressor.predict(X_val)\n",
        "\n",
        "# Calculate RMSE and MAE on the validation set\n",
        "rmse_val = np.sqrt(mean_squared_error(y_val, y_val_pred))\n",
        "mae_val = mean_absolute_error(y_val, y_val_pred)\n",
        "\n",
        "print(\"Validation set metrics:\")\n",
        "print(\"RMSE:\", rmse_val)\n",
        "print(\"MAE:\", mae_val)\n",
        "\n",
        "# Predict on the test set\n",
        "y_test_pred = rf_regressor.predict(X_test)\n",
        "\n",
        "# Calculate RMSE and MAE on the test set\n",
        "rmse_test = np.sqrt(mean_squared_error(y_test, y_test_pred))\n",
        "mae_test = mean_absolute_error(y_test, y_test_pred)\n",
        "\n",
        "print(\"\\nTest set metrics:\")\n",
        "print(\"RMSE:\", rmse_test)\n",
        "print(\"MAE:\", mae_test)\n",
        "\n",
        "# Append predictions to validation and test data\n",
        "val_data['predictions_rf_1min'] = y_val_pred\n",
        "test_data['predictions_rf_1min'] = y_test_pred\n",
        "\n",
        "# Save predictions to new dataframes\n",
        "predictions_val_rf_1min = val_data.copy()\n",
        "predictions_test_rf_1min = test_data.copy()\n",
        "\n",
        "# Optionally, you can save these dataframes to CSV files\n",
        "predictions_val_rf_1min.to_csv('predictions_val_rf_1min_2016-2019_new.csv', index=False)\n",
        "predictions_test_rf_1min.to_csv('predictions_test_rf_1min_2016-2019_new.csv', index=False)"
      ]
    }
  ],
  "metadata": {
    "accelerator": "TPU",
    "colab": {
      "gpuType": "V28",
      "machine_shape": "hm",
      "provenance": []
    },
    "kernelspec": {
      "display_name": "Python 3",
      "name": "python3"
    },
    "language_info": {
      "name": "python"
    }
  },
  "nbformat": 4,
  "nbformat_minor": 0
}