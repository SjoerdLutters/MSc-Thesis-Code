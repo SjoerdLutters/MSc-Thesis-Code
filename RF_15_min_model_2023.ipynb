{
  "cells": [
    {
      "cell_type": "code",
      "execution_count": null,
      "metadata": {
        "id": "eHvu6K-iU9uD"
      },
      "outputs": [],
      "source": [
        "import pandas as pd\n",
        "import numpy as np"
      ]
    },
    {
      "cell_type": "code",
      "execution_count": null,
      "metadata": {
        "colab": {
          "base_uri": "https://localhost:8080/"
        },
        "id": "YFHzSLEjbA6o",
        "outputId": "09d7cad3-3544-47a4-fe4f-c4c605daa2a6"
      },
      "outputs": [
        {
          "output_type": "stream",
          "name": "stdout",
          "text": [
            "Drive already mounted at /content/drive; to attempt to forcibly remount, call drive.mount(\"/content/drive\", force_remount=True).\n"
          ]
        }
      ],
      "source": [
        "from google.colab import drive\n",
        "drive.mount('/content/drive')\n"
      ]
    },
    {
      "cell_type": "code",
      "execution_count": null,
      "metadata": {
        "id": "42IcdLLvm-n1"
      },
      "outputs": [],
      "source": [
        "# Navigate to the directory where your file is located\n",
        "import os\n",
        "os.chdir('/content/drive/MyDrive/Data MSc thesis')\n",
        "\n",
        "# Read the CSV file\n",
        "data = pd.read_csv(\"Preprocessed_15min_2023.csv\")"
      ]
    },
    {
      "cell_type": "code",
      "source": [
        "import pandas as pd\n",
        "\n",
        "# Assuming 'year' is a column in your DataFrame 'data'\n",
        "data_year_encoded = pd.get_dummies(data, columns=['year'])"
      ],
      "metadata": {
        "id": "cwY_jwKi-ECQ"
      },
      "execution_count": null,
      "outputs": []
    },
    {
      "cell_type": "code",
      "source": [
        "import pandas as pd\n",
        "\n",
        "# Assuming 'month' is a column in your DataFrame 'data_year_encoded'\n",
        "# Map the month numbers to month names\n",
        "month_names = {1: 'January', 2: 'February', 3: 'March', 4: 'April', 5: 'May', 6: 'June',\n",
        "               7: 'July', 8: 'August', 9: 'September', 10: 'October', 11: 'November', 12: 'December'}\n",
        "\n",
        "# Map month numbers to month names and then one-hot encode\n",
        "data_month_encoded = pd.get_dummies(data_year_encoded, columns=['month'])\n",
        "data_month_encoded.rename(columns=month_names, inplace=True)"
      ],
      "metadata": {
        "id": "MBQLt7SF-D43"
      },
      "execution_count": null,
      "outputs": []
    },
    {
      "cell_type": "code",
      "source": [
        "data_day_encoded = pd.get_dummies(data_month_encoded, columns=['day'])\n",
        "#data_month_encoded.rename(columns=month_names, inplace=True)"
      ],
      "metadata": {
        "id": "QhnEJi1z-Du4"
      },
      "execution_count": null,
      "outputs": []
    },
    {
      "cell_type": "code",
      "source": [
        "data_dayofweek_encoded = pd.get_dummies(data_day_encoded, columns=['day_of_week'])\n",
        "#data_month_encoded.rename(columns=month_names, inplace=True)"
      ],
      "metadata": {
        "id": "U1YYEf2p-DnW"
      },
      "execution_count": null,
      "outputs": []
    },
    {
      "cell_type": "code",
      "source": [
        "# Assuming 'weekend' is the column containing integer values (0 and 1)\n",
        "data_dayofweek_encoded['weekend'] = data_dayofweek_encoded['weekend'].astype(bool)\n",
        "data_dayofweek_encoded['is_public_holiday'] = data_dayofweek_encoded['is_public_holiday'].astype(bool)"
      ],
      "metadata": {
        "id": "8Irb2Lav-Dek"
      },
      "execution_count": null,
      "outputs": []
    },
    {
      "cell_type": "code",
      "source": [
        "data_hour_encoded = pd.get_dummies(data_dayofweek_encoded, columns=['hour'])\n",
        "#data_month_encoded.rename(columns=month_names, inplace=True)"
      ],
      "metadata": {
        "id": "iRC1Qb-5-DXd"
      },
      "execution_count": null,
      "outputs": []
    },
    {
      "cell_type": "code",
      "source": [
        "data_minute_encoded = pd.get_dummies(data_hour_encoded, columns=['minute'])\n",
        "#data_month_encoded.rename(columns=month_names, inplace=True)"
      ],
      "metadata": {
        "id": "tOWFKlBy-DPu"
      },
      "execution_count": null,
      "outputs": []
    },
    {
      "cell_type": "code",
      "source": [
        "from sklearn.preprocessing import StandardScaler\n",
        "\n",
        "# Assuming 'intensiteit' is the column you want to standardize\n",
        "intensiteit_values = data_minute_encoded['intensiteit'].values.reshape(-1, 1)\n",
        "\n",
        "# Initialize the StandardScaler\n",
        "scaler = StandardScaler()\n",
        "\n",
        "# Fit the scaler to the intensiteit values and transform them\n",
        "intensiteit_scaled = scaler.fit_transform(intensiteit_values)\n",
        "\n",
        "# Replace the 'intensiteit' column with the standardized values\n",
        "data_minute_encoded['intensiteit'] = intensiteit_scaled"
      ],
      "metadata": {
        "id": "H5PxocRO-DKO"
      },
      "execution_count": null,
      "outputs": []
    },
    {
      "cell_type": "code",
      "source": [
        "# Sort the data by id_meetlocatie and date\n",
        "data1 = data_minute_encoded.sort_values(by=[\"id_meetlocatie\", \"date\"])\n",
        "\n",
        "# Group by id_meetlocatie and add the lagged feature\n",
        "data1[\"avg_speed_t-1\"] = data1.groupby(\"id_meetlocatie\")[\"avg_speed\"].shift(1)"
      ],
      "metadata": {
        "id": "tavkPLh6-DEe"
      },
      "execution_count": null,
      "outputs": []
    },
    {
      "cell_type": "code",
      "source": [
        "# Sort the data by id_meetlocatie and date\n",
        "data2 = data1.sort_values(by=[\"id_meetlocatie\", \"date\"])\n",
        "\n",
        "# Group by id_meetlocatie and add the lagged feature\n",
        "data2[\"avg_speed_t-2\"] = data2.groupby(\"id_meetlocatie\")[\"avg_speed_t-1\"].shift(1)"
      ],
      "metadata": {
        "id": "l1UKWP-o-C_D"
      },
      "execution_count": null,
      "outputs": []
    },
    {
      "cell_type": "code",
      "source": [
        "# Sort the data by id_meetlocatie and date\n",
        "data3 = data2.sort_values(by=[\"id_meetlocatie\", \"date\"])\n",
        "\n",
        "# Group by id_meetlocatie and add the lagged feature\n",
        "data3[\"avg_speed_t-3\"] = data3.groupby(\"id_meetlocatie\")[\"avg_speed_t-2\"].shift(1)"
      ],
      "metadata": {
        "id": "rOPccr87-C5T"
      },
      "execution_count": null,
      "outputs": []
    },
    {
      "cell_type": "code",
      "source": [
        "data4 = data3.dropna(subset=['avg_speed_t-1', 'avg_speed_t-2', 'avg_speed_t-3'])"
      ],
      "metadata": {
        "id": "GZTRqJe1-CzX"
      },
      "execution_count": null,
      "outputs": []
    },
    {
      "cell_type": "code",
      "source": [
        "from sklearn.preprocessing import StandardScaler\n",
        "\n",
        "# Columns to standardize\n",
        "columns_to_standardize = ['avg_speed_t-1', 'avg_speed_t-2', 'avg_speed_t-3']\n",
        "\n",
        "# Initialize the StandardScaler\n",
        "scaler = StandardScaler()\n",
        "\n",
        "# Fit the scaler to the selected columns and transform them\n",
        "data4[columns_to_standardize] = scaler.fit_transform(data4[columns_to_standardize])"
      ],
      "metadata": {
        "colab": {
          "base_uri": "https://localhost:8080/"
        },
        "id": "fl-SjugS-Csf",
        "outputId": "adf778af-3b1b-450e-9822-788b25778835"
      },
      "execution_count": null,
      "outputs": [
        {
          "output_type": "stream",
          "name": "stderr",
          "text": [
            "<ipython-input-17-94757408da41>:10: SettingWithCopyWarning: \n",
            "A value is trying to be set on a copy of a slice from a DataFrame.\n",
            "Try using .loc[row_indexer,col_indexer] = value instead\n",
            "\n",
            "See the caveats in the documentation: https://pandas.pydata.org/pandas-docs/stable/user_guide/indexing.html#returning-a-view-versus-a-copy\n",
            "  data4[columns_to_standardize] = scaler.fit_transform(data4[columns_to_standardize])\n"
          ]
        }
      ]
    },
    {
      "cell_type": "code",
      "source": [
        "encoded_data = pd.get_dummies(data4, columns=['id_meetlocatie'])"
      ],
      "metadata": {
        "id": "WaRFeET2-CoX"
      },
      "execution_count": null,
      "outputs": []
    },
    {
      "cell_type": "code",
      "source": [
        "encoded_data.shape"
      ],
      "metadata": {
        "colab": {
          "base_uri": "https://localhost:8080/"
        },
        "id": "75WgxJJn-CiN",
        "outputId": "f4f91f14-9a28-4f34-8984-8fcd0b25ed04"
      },
      "execution_count": null,
      "outputs": [
        {
          "output_type": "execute_result",
          "data": {
            "text/plain": [
              "(765552, 110)"
            ]
          },
          "metadata": {},
          "execution_count": 19
        }
      ]
    },
    {
      "cell_type": "code",
      "execution_count": null,
      "metadata": {
        "id": "dMTa2COfbWug"
      },
      "outputs": [],
      "source": [
        "# vanaf 15 maart 2019 test split\n",
        "# 19 oktober 2018 val split\n",
        "# tot 19 oktober 2018 train split"
      ]
    },
    {
      "cell_type": "code",
      "execution_count": null,
      "metadata": {
        "id": "tQjTmMsrbiGI"
      },
      "outputs": [],
      "source": [
        "import pandas as pd\n",
        "\n",
        "# Assuming 'data' is your DataFrame containing the dataset\n",
        "\n",
        "# Convert 'date' column to datetime type\n",
        "encoded_data['date'] = pd.to_datetime(encoded_data['date'])\n",
        "\n",
        "# Perform train-validation-test split based on date\n",
        "train_data = encoded_data[encoded_data['date'] < '2023-09-13']\n",
        "test_data = encoded_data[encoded_data['date'] > '2023-10-19']\n",
        "val_data = encoded_data[(encoded_data['date'] >= '2023-09-13') & (encoded_data['date'] <= '2023-10-19')]\n",
        "\n",
        "# Optionally, you may reset the index of each split DataFrame\n",
        "train_data.reset_index(drop=True, inplace=True)\n",
        "test_data.reset_index(drop=True, inplace=True)\n",
        "val_data.reset_index(drop=True, inplace=True)"
      ]
    },
    {
      "cell_type": "code",
      "execution_count": null,
      "metadata": {
        "id": "CZ3x9QFnbm9o"
      },
      "outputs": [],
      "source": [
        "train_data = train_data.drop(columns=['date'])\n",
        "val_data = val_data.drop(columns=['date'])\n",
        "test_data = test_data.drop(columns=['date'])"
      ]
    },
    {
      "cell_type": "code",
      "source": [
        "print(train_data.shape)\n",
        "print(val_data.shape)\n",
        "print(test_data.shape)"
      ],
      "metadata": {
        "colab": {
          "base_uri": "https://localhost:8080/"
        },
        "id": "FagSzBjMAZTu",
        "outputId": "772ca2b0-faaf-46c3-d875-e159eb560a34"
      },
      "execution_count": null,
      "outputs": [
        {
          "output_type": "stream",
          "name": "stdout",
          "text": [
            "(533892, 109)\n",
            "(77528, 109)\n",
            "(154132, 109)\n"
          ]
        }
      ]
    },
    {
      "cell_type": "code",
      "execution_count": null,
      "metadata": {
        "colab": {
          "base_uri": "https://localhost:8080/"
        },
        "id": "yNeXNMgWJp5D",
        "outputId": "a37ef1d7-ae20-40f3-831b-39ee623a6c1b"
      },
      "outputs": [
        {
          "output_type": "stream",
          "name": "stdout",
          "text": [
            "Fitting 3 folds for each of 3 candidates, totalling 9 fits\n"
          ]
        },
        {
          "output_type": "stream",
          "name": "stderr",
          "text": [
            "/usr/local/lib/python3.10/dist-packages/sklearn/ensemble/_forest.py:413: FutureWarning: `max_features='auto'` has been deprecated in 1.1 and will be removed in 1.3. To keep the past behaviour, explicitly set `max_features=1.0` or remove this parameter as it is also the default value for RandomForestRegressors and ExtraTreesRegressors.\n",
            "  warn(\n"
          ]
        },
        {
          "output_type": "stream",
          "name": "stdout",
          "text": [
            "Validation set metrics:\n",
            "RMSE: 4.219733276642439\n",
            "MAE: 1.6725450986668735\n",
            "\n",
            "Test set metrics:\n",
            "RMSE: 4.015275051379388\n",
            "MAE: 1.516073877333114\n",
            "\n",
            "Best hyperparameters:\n",
            "{'n_estimators': 200, 'min_samples_split': 10, 'min_samples_leaf': 2, 'max_features': 'auto', 'max_depth': 200}\n"
          ]
        }
      ],
      "source": [
        "from sklearn.ensemble import RandomForestRegressor\n",
        "from sklearn.model_selection import RandomizedSearchCV\n",
        "from sklearn.metrics import mean_squared_error, mean_absolute_error\n",
        "import numpy as np\n",
        "\n",
        "\n",
        "# Extract features and target variable from train, validation, and test sets\n",
        "X_train = train_data.drop(columns=['avg_speed'])\n",
        "y_train = train_data['avg_speed']\n",
        "\n",
        "X_val = val_data.drop(columns=['avg_speed'])\n",
        "y_val = val_data['avg_speed']\n",
        "\n",
        "X_test = test_data.drop(columns=['avg_speed'])\n",
        "y_test = test_data['avg_speed']\n",
        "\n",
        "#Define the parameter distributions for Random Forest hyperparameters\n",
        "param_distributions = {\n",
        "    'n_estimators': [50, 100, 200],\n",
        "    'max_depth': [None, 100, 200],\n",
        "    'min_samples_split': [2, 5, 10],\n",
        "    'min_samples_leaf': [1, 2 ,3],\n",
        "    'max_features': ['log2', 'auto']\n",
        "}\n",
        "\n",
        "# Initialize Random Forest regressor\n",
        "rf_regressor = RandomForestRegressor(random_state=42, n_jobs = -1)\n",
        "\n",
        "# Perform randomized search for hyperparameter tuning\n",
        "random_search = RandomizedSearchCV(\n",
        "    rf_regressor,\n",
        "    param_distributions=param_distributions,\n",
        "    n_iter=3,\n",
        "    cv=3,\n",
        "    verbose=1,\n",
        "    n_jobs=-1\n",
        ")\n",
        "\n",
        "# Fit the RandomizedSearchCV on the training data\n",
        "random_search.fit(X_train, y_train)\n",
        "\n",
        "# Get the best estimator and its hyperparameters\n",
        "best_estimator = random_search.best_estimator_\n",
        "best_params = random_search.best_params_\n",
        "\n",
        "# Predict on the validation set using the best estimator\n",
        "y_val_pred = best_estimator.predict(X_val)\n",
        "\n",
        "# Calculate RMSE and MAE on the validation set\n",
        "rmse_val = np.sqrt(mean_squared_error(y_val, y_val_pred))\n",
        "mae_val = mean_absolute_error(y_val, y_val_pred)\n",
        "\n",
        "print(\"Validation set metrics:\")\n",
        "print(\"RMSE:\", rmse_val)\n",
        "print(\"MAE:\", mae_val)\n",
        "\n",
        "# Predict on the test set using the best estimator\n",
        "y_test_pred = best_estimator.predict(X_test)\n",
        "\n",
        "# Calculate RMSE and MAE on the test set\n",
        "rmse_test = np.sqrt(mean_squared_error(y_test, y_test_pred))\n",
        "mae_test = mean_absolute_error(y_test, y_test_pred)\n",
        "\n",
        "print(\"\\nTest set metrics:\")\n",
        "print(\"RMSE:\", rmse_test)\n",
        "print(\"MAE:\", mae_test)\n",
        "\n",
        "# Print the best hyperparameters\n",
        "print(\"\\nBest hyperparameters:\")\n",
        "print(best_params)\n",
        "\n",
        "# Append predictions to validation and test data\n",
        "#val_data['predictions_rf_15min'] = y_val_pred\n",
        "test_data['predictions_rf_15min'] = y_test_pred\n",
        "\n",
        "# Save predictions to new dataframes\n",
        "#predictions_val_rf_15min = val_data.copy()\n",
        "predictions_test_rf_15min = test_data.copy()\n",
        "\n",
        "# Optionally, you can save these dataframes to CSV files\n",
        "#predictions_val_rf_15min.to_csv('predictions_val_rf_15min_2023_new.csv', index=False)\n",
        "predictions_test_rf_15min.to_csv('predictions_test_rf_15min_2023_new.csv', index=False)"
      ]
    }
  ],
  "metadata": {
    "colab": {
      "machine_shape": "hm",
      "provenance": [],
      "gpuType": "V28"
    },
    "kernelspec": {
      "display_name": "Python 3",
      "name": "python3"
    },
    "language_info": {
      "name": "python"
    },
    "accelerator": "TPU"
  },
  "nbformat": 4,
  "nbformat_minor": 0
}