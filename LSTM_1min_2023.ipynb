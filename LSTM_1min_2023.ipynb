{
  "nbformat": 4,
  "nbformat_minor": 0,
  "metadata": {
    "colab": {
      "provenance": [],
      "machine_shape": "hm",
      "gpuType": "T4"
    },
    "kernelspec": {
      "name": "python3",
      "display_name": "Python 3"
    },
    "language_info": {
      "name": "python"
    },
    "accelerator": "GPU"
  },
  "cells": [
    {
      "cell_type": "code",
      "execution_count": null,
      "metadata": {
        "id": "eHvu6K-iU9uD"
      },
      "outputs": [],
      "source": [
        "import pandas as pd\n",
        "import numpy as np"
      ]
    },
    {
      "cell_type": "code",
      "source": [
        "from google.colab import drive\n",
        "drive.mount('/content/drive')\n"
      ],
      "metadata": {
        "colab": {
          "base_uri": "https://localhost:8080/"
        },
        "id": "YFHzSLEjbA6o",
        "outputId": "a3ff48b3-6748-4928-9879-87ace4f1b7ed"
      },
      "execution_count": null,
      "outputs": [
        {
          "output_type": "stream",
          "name": "stdout",
          "text": [
            "Mounted at /content/drive\n"
          ]
        }
      ]
    },
    {
      "cell_type": "code",
      "source": [
        "# Navigate to the directory where your file is located\n",
        "import os\n",
        "os.chdir('/content/drive/MyDrive/Data MSc thesis')\n",
        "\n",
        "# Read the CSV file\n",
        "data = pd.read_csv(\"Preprocessed_1min_2023.csv\")"
      ],
      "metadata": {
        "id": "42IcdLLvm-n1"
      },
      "execution_count": null,
      "outputs": []
    },
    {
      "cell_type": "code",
      "source": [
        "import pandas as pd\n",
        "\n",
        "# Assuming 'year' is a column in your DataFrame 'data'\n",
        "data_year_encoded = pd.get_dummies(data, columns=['year'])\n"
      ],
      "metadata": {
        "id": "juLvR3HPzN-A"
      },
      "execution_count": null,
      "outputs": []
    },
    {
      "cell_type": "code",
      "source": [
        "import pandas as pd\n",
        "\n",
        "# Assuming 'month' is a column in your DataFrame 'data_year_encoded'\n",
        "# Map the month numbers to month names\n",
        "month_names = {1: 'January', 2: 'February', 3: 'March', 4: 'April', 5: 'May', 6: 'June',\n",
        "               7: 'July', 8: 'August', 9: 'September', 10: 'October', 11: 'November', 12: 'December'}\n",
        "\n",
        "# Map month numbers to month names and then one-hot encode\n",
        "data_month_encoded = pd.get_dummies(data_year_encoded, columns=['month'])\n",
        "data_month_encoded.rename(columns=month_names, inplace=True)\n"
      ],
      "metadata": {
        "id": "X20yumuUzYH7"
      },
      "execution_count": null,
      "outputs": []
    },
    {
      "cell_type": "code",
      "source": [
        "data_day_encoded = pd.get_dummies(data_month_encoded, columns=['day'])\n",
        "#data_month_encoded.rename(columns=month_names, inplace=True)\n"
      ],
      "metadata": {
        "id": "iZ46_Jl63VQG"
      },
      "execution_count": null,
      "outputs": []
    },
    {
      "cell_type": "code",
      "source": [
        "data_dayofweek_encoded = pd.get_dummies(data_day_encoded, columns=['day_of_week'])\n",
        "#data_month_encoded.rename(columns=month_names, inplace=True)\n"
      ],
      "metadata": {
        "id": "_EC52xyF34ma"
      },
      "execution_count": null,
      "outputs": []
    },
    {
      "cell_type": "code",
      "source": [
        "# Assuming 'weekend' is the column containing integer values (0 and 1)\n",
        "data_dayofweek_encoded['weekend'] = data_dayofweek_encoded['weekend'].astype(bool)\n",
        "data_dayofweek_encoded['is_public_holiday'] = data_dayofweek_encoded['is_public_holiday'].astype(bool)\n"
      ],
      "metadata": {
        "id": "o3hBmdbY4Jea"
      },
      "execution_count": null,
      "outputs": []
    },
    {
      "cell_type": "code",
      "source": [
        "data_hour_encoded = pd.get_dummies(data_dayofweek_encoded, columns=['hour'])\n",
        "#data_month_encoded.rename(columns=month_names, inplace=True)\n"
      ],
      "metadata": {
        "id": "1eC87W8O5-w0"
      },
      "execution_count": null,
      "outputs": []
    },
    {
      "cell_type": "code",
      "source": [
        "data_minute_encoded = pd.get_dummies(data_hour_encoded, columns=['minute'])\n",
        "#data_month_encoded.rename(columns=month_names, inplace=True)\n"
      ],
      "metadata": {
        "id": "0aUozfwi6S97"
      },
      "execution_count": null,
      "outputs": []
    },
    {
      "cell_type": "code",
      "source": [
        "from sklearn.preprocessing import StandardScaler\n",
        "\n",
        "# Assuming 'intensiteit' is the column you want to standardize\n",
        "intensiteit_values = data_minute_encoded['intensiteit'].values.reshape(-1, 1)\n",
        "\n",
        "# Initialize the StandardScaler\n",
        "scaler = StandardScaler()\n",
        "\n",
        "# Fit the scaler to the intensiteit values and transform them\n",
        "intensiteit_scaled = scaler.fit_transform(intensiteit_values)\n",
        "\n",
        "# Replace the 'intensiteit' column with the standardized values\n",
        "data_minute_encoded['intensiteit'] = intensiteit_scaled\n"
      ],
      "metadata": {
        "id": "s6or2O_86jUf"
      },
      "execution_count": null,
      "outputs": []
    },
    {
      "cell_type": "code",
      "source": [
        "# Sort the data by id_meetlocatie and date\n",
        "data1 = data_minute_encoded.sort_values(by=[\"id_meetlocatie\", \"date\"])\n",
        "\n",
        "# Group by id_meetlocatie and add the lagged feature\n",
        "data1[\"avg_speed_t-1\"] = data1.groupby(\"id_meetlocatie\")[\"avg_speed\"].shift(1)"
      ],
      "metadata": {
        "id": "JxxYP-YvbBCc"
      },
      "execution_count": null,
      "outputs": []
    },
    {
      "cell_type": "code",
      "source": [
        "# Sort the data by id_meetlocatie and date\n",
        "data2 = data1.sort_values(by=[\"id_meetlocatie\", \"date\"])\n",
        "\n",
        "# Group by id_meetlocatie and add the lagged feature\n",
        "data2[\"avg_speed_t-2\"] = data2.groupby(\"id_meetlocatie\")[\"avg_speed_t-1\"].shift(1)"
      ],
      "metadata": {
        "id": "nOA18OQtbBIO"
      },
      "execution_count": null,
      "outputs": []
    },
    {
      "cell_type": "code",
      "source": [
        "# Sort the data by id_meetlocatie and date\n",
        "data3 = data2.sort_values(by=[\"id_meetlocatie\", \"date\"])\n",
        "\n",
        "# Group by id_meetlocatie and add the lagged feature\n",
        "data3[\"avg_speed_t-3\"] = data3.groupby(\"id_meetlocatie\")[\"avg_speed_t-2\"].shift(1)"
      ],
      "metadata": {
        "id": "ZmfLADmgbN_o"
      },
      "execution_count": null,
      "outputs": []
    },
    {
      "cell_type": "code",
      "source": [
        "data4 = data3.dropna(subset=['avg_speed_t-1', 'avg_speed_t-2', 'avg_speed_t-3'])"
      ],
      "metadata": {
        "id": "qc7rc3N1bWDC"
      },
      "execution_count": null,
      "outputs": []
    },
    {
      "cell_type": "code",
      "source": [
        "from sklearn.preprocessing import StandardScaler\n",
        "\n",
        "# Columns to standardize\n",
        "columns_to_standardize = ['avg_speed_t-1', 'avg_speed_t-2', 'avg_speed_t-3']\n",
        "\n",
        "# Initialize the StandardScaler\n",
        "scaler = StandardScaler()\n",
        "\n",
        "# Fit the scaler to the selected columns and transform them\n",
        "data4[columns_to_standardize] = scaler.fit_transform(data4[columns_to_standardize])\n"
      ],
      "metadata": {
        "colab": {
          "base_uri": "https://localhost:8080/"
        },
        "id": "-oajVurl7RnD",
        "outputId": "e527de5f-5cda-4b7c-d910-12a224796cb8"
      },
      "execution_count": null,
      "outputs": [
        {
          "output_type": "stream",
          "name": "stderr",
          "text": [
            "<ipython-input-16-94757408da41>:10: SettingWithCopyWarning: \n",
            "A value is trying to be set on a copy of a slice from a DataFrame.\n",
            "Try using .loc[row_indexer,col_indexer] = value instead\n",
            "\n",
            "See the caveats in the documentation: https://pandas.pydata.org/pandas-docs/stable/user_guide/indexing.html#returning-a-view-versus-a-copy\n",
            "  data4[columns_to_standardize] = scaler.fit_transform(data4[columns_to_standardize])\n"
          ]
        }
      ]
    },
    {
      "cell_type": "code",
      "source": [
        "encoded_data = pd.get_dummies(data4, columns=['id_meetlocatie'])"
      ],
      "metadata": {
        "id": "tdDVszJ-bWpY"
      },
      "execution_count": null,
      "outputs": []
    },
    {
      "cell_type": "code",
      "source": [
        "#2016-2019\n",
        "# vanaf 15 maart 2019 test split\n",
        "# 19 oktober 2018 val split\n",
        "# tot 19 oktober 2018 train split\n",
        "\n",
        "#2023\n",
        "#vanaf 20 oktober test split\n",
        "#tot en met 12 september train split\n",
        "#tussen in val split"
      ],
      "metadata": {
        "id": "dMTa2COfbWug"
      },
      "execution_count": null,
      "outputs": []
    },
    {
      "cell_type": "code",
      "source": [
        "import pandas as pd\n",
        "\n",
        "# Assuming 'data' is your DataFrame containing the dataset\n",
        "\n",
        "# Convert 'date' column to datetime type\n",
        "encoded_data['date'] = pd.to_datetime(encoded_data['date'])\n",
        "\n",
        "# Perform train-validation-test split based on date\n",
        "train_data = encoded_data[encoded_data['date'] < '2023-09-13']\n",
        "test_data = encoded_data[encoded_data['date'] > '2023-10-19']\n",
        "val_data = encoded_data[(encoded_data['date'] >= '2023-09-13') & (encoded_data['date'] <= '2023-10-19')]\n",
        "\n",
        "# Optionally, you may reset the index of each split DataFrame\n",
        "train_data.reset_index(drop=True, inplace=True)\n",
        "test_data.reset_index(drop=True, inplace=True)\n",
        "val_data.reset_index(drop=True, inplace=True)\n"
      ],
      "metadata": {
        "id": "tQjTmMsrbiGI"
      },
      "execution_count": null,
      "outputs": []
    },
    {
      "cell_type": "code",
      "source": [
        "train_data = train_data.drop(columns=['date'])\n",
        "val_data = val_data.drop(columns=['date'])\n",
        "test_data = test_data.drop(columns=['date'])"
      ],
      "metadata": {
        "id": "CZ3x9QFnbm9o"
      },
      "execution_count": null,
      "outputs": []
    },
    {
      "cell_type": "code",
      "source": [
        "!pip install keras-tuner\n"
      ],
      "metadata": {
        "colab": {
          "base_uri": "https://localhost:8080/"
        },
        "id": "-n8v022J6GCV",
        "outputId": "c8380704-9f19-4c62-dfc5-85719e038761"
      },
      "execution_count": null,
      "outputs": [
        {
          "output_type": "stream",
          "name": "stdout",
          "text": [
            "Collecting keras-tuner\n",
            "  Downloading keras_tuner-1.4.7-py3-none-any.whl (129 kB)\n",
            "\u001b[?25l     \u001b[90m━━━━━━━━━━━━━━━━━━━━━━━━━━━━━━━━━━━━━━━━\u001b[0m \u001b[32m0.0/129.1 kB\u001b[0m \u001b[31m?\u001b[0m eta \u001b[36m-:--:--\u001b[0m\r\u001b[2K     \u001b[91m━━━━━━━━━━━━━━━━━━━━━━━━━━━━━━━━━━━━━━\u001b[0m\u001b[90m╺\u001b[0m\u001b[90m━\u001b[0m \u001b[32m122.9/129.1 kB\u001b[0m \u001b[31m3.9 MB/s\u001b[0m eta \u001b[36m0:00:01\u001b[0m\r\u001b[2K     \u001b[90m━━━━━━━━━━━━━━━━━━━━━━━━━━━━━━━━━━━━━━━━\u001b[0m \u001b[32m129.1/129.1 kB\u001b[0m \u001b[31m3.2 MB/s\u001b[0m eta \u001b[36m0:00:00\u001b[0m\n",
            "\u001b[?25hRequirement already satisfied: keras in /usr/local/lib/python3.10/dist-packages (from keras-tuner) (2.15.0)\n",
            "Requirement already satisfied: packaging in /usr/local/lib/python3.10/dist-packages (from keras-tuner) (24.0)\n",
            "Requirement already satisfied: requests in /usr/local/lib/python3.10/dist-packages (from keras-tuner) (2.31.0)\n",
            "Collecting kt-legacy (from keras-tuner)\n",
            "  Downloading kt_legacy-1.0.5-py3-none-any.whl (9.6 kB)\n",
            "Requirement already satisfied: charset-normalizer<4,>=2 in /usr/local/lib/python3.10/dist-packages (from requests->keras-tuner) (3.3.2)\n",
            "Requirement already satisfied: idna<4,>=2.5 in /usr/local/lib/python3.10/dist-packages (from requests->keras-tuner) (3.7)\n",
            "Requirement already satisfied: urllib3<3,>=1.21.1 in /usr/local/lib/python3.10/dist-packages (from requests->keras-tuner) (2.0.7)\n",
            "Requirement already satisfied: certifi>=2017.4.17 in /usr/local/lib/python3.10/dist-packages (from requests->keras-tuner) (2024.2.2)\n",
            "Installing collected packages: kt-legacy, keras-tuner\n",
            "Successfully installed keras-tuner-1.4.7 kt-legacy-1.0.5\n"
          ]
        }
      ]
    },
    {
      "cell_type": "code",
      "source": [
        "# See shape to find number of rows"
      ],
      "metadata": {
        "id": "ewScTRAUIdRg"
      },
      "execution_count": null,
      "outputs": []
    },
    {
      "cell_type": "code",
      "source": [
        "train_data.shape"
      ],
      "metadata": {
        "colab": {
          "base_uri": "https://localhost:8080/"
        },
        "id": "HUOgURoUkxE9",
        "outputId": "49048174-69d7-45c7-85dd-9c99e1d3397a"
      },
      "execution_count": null,
      "outputs": [
        {
          "output_type": "execute_result",
          "data": {
            "text/plain": [
              "(7993445, 165)"
            ]
          },
          "metadata": {},
          "execution_count": 21
        }
      ]
    },
    {
      "cell_type": "code",
      "source": [
        "val_data.shape"
      ],
      "metadata": {
        "colab": {
          "base_uri": "https://localhost:8080/"
        },
        "id": "uTpk4ZNTlE5B",
        "outputId": "5cdbaa14-7d5e-430c-e7e2-f2312a0b5bdb"
      },
      "execution_count": null,
      "outputs": [
        {
          "output_type": "execute_result",
          "data": {
            "text/plain": [
              "(1162136, 165)"
            ]
          },
          "metadata": {},
          "execution_count": 22
        }
      ]
    },
    {
      "cell_type": "code",
      "source": [
        "test_data.shape"
      ],
      "metadata": {
        "colab": {
          "base_uri": "https://localhost:8080/"
        },
        "id": "SmnDhtwIlWkn",
        "outputId": "60fe00a6-60de-4f31-e083-cdd9abe4674f"
      },
      "execution_count": null,
      "outputs": [
        {
          "output_type": "execute_result",
          "data": {
            "text/plain": [
              "(2310730, 165)"
            ]
          },
          "metadata": {},
          "execution_count": 23
        }
      ]
    },
    {
      "cell_type": "code",
      "source": [
        "import pandas as pd\n",
        "\n",
        "# Assuming train_data, val_data, and test_data are pandas DataFrames\n",
        "train_data = train_data.dropna()\n",
        "val_data = val_data.dropna()\n",
        "test_data = test_data.dropna()\n",
        "\n",
        "print(\"Number of instances in train_data after removing NaN values:\", len(train_data))\n",
        "print(\"Number of instances in val_data after removing NaN values:\", len(val_data))\n",
        "print(\"Number of instances in test_data after removing NaN values:\", len(test_data))"
      ],
      "metadata": {
        "colab": {
          "base_uri": "https://localhost:8080/"
        },
        "id": "msxbGEIAQOap",
        "outputId": "c9db13b5-e385-44f1-97f3-44a335479b36"
      },
      "execution_count": null,
      "outputs": [
        {
          "output_type": "stream",
          "name": "stdout",
          "text": [
            "Number of instances in train_data after removing NaN values: 7993443\n",
            "Number of instances in val_data after removing NaN values: 1162136\n",
            "Number of instances in test_data after removing NaN values: 2310730\n"
          ]
        }
      ]
    },
    {
      "cell_type": "code",
      "source": [
        "train_data = train_data.iloc[:7993440]\n",
        "val_data = val_data.iloc[:1162135]\n",
        "test_data = test_data.iloc[:2310730]"
      ],
      "metadata": {
        "id": "zRbtyyIn3Ryn"
      },
      "execution_count": null,
      "outputs": []
    },
    {
      "cell_type": "code",
      "source": [
        "import tensorflow as tf\n",
        "from tensorflow.keras.models import Sequential\n",
        "from tensorflow.keras.layers import LSTM, Dense, Bidirectional, Dropout\n",
        "from tensorflow.keras.callbacks import EarlyStopping\n",
        "from sklearn.metrics import mean_squared_error, mean_absolute_error\n",
        "from kerastuner.tuners import RandomSearch\n",
        "\n",
        "# Set random seed for TensorFlow\n",
        "tf.random.set_seed(42)\n",
        "\n",
        "# Set random seed for numpy operations\n",
        "np.random.seed(42)\n",
        "\n",
        "# Define the features and target variable\n",
        "X_train = train_data.drop(columns=['avg_speed']).values\n",
        "y_train = train_data['avg_speed'].values\n",
        "\n",
        "X_val = val_data.drop(columns=['avg_speed']).values\n",
        "y_val = val_data['avg_speed'].values\n",
        "\n",
        "X_test = test_data.drop(columns=['avg_speed']).values\n",
        "y_test = test_data['avg_speed'].values\n",
        "\n",
        "# Convert X_train to float32\n",
        "X_train = X_train.astype('float32')\n",
        "y_train = y_train.astype('float32')\n",
        "\n",
        "X_val = X_val.astype('float32')\n",
        "y_val = y_val.astype('float32')\n",
        "\n",
        "X_test = X_test.astype('float32')\n",
        "y_test = y_test.astype('float32')\n",
        "\n",
        "# Reshape data for LSTM input: (samples, time steps, features)\n",
        "X_train = X_train.reshape((X_train.shape[0] // 5, 5, X_train.shape[1]))\n",
        "X_val = X_val.reshape((X_val.shape[0] // 5, 5, X_val.shape[1]))\n",
        "X_test = X_test.reshape((X_test.shape[0] // 5, 5, X_test.shape[1]))\n",
        "\n",
        "# Reshape target variables\n",
        "y_train = y_train.reshape((y_train.shape[0] // 5, 5))\n",
        "y_val = y_val.reshape((y_val.shape[0] // 5, 5))\n",
        "y_test = y_test.reshape((y_test.shape[0] // 5, 5))\n",
        "\n",
        "def build_model(hp):\n",
        "    model = Sequential()\n",
        "    model.add(Bidirectional(LSTM(units=hp.Int('units', min_value=160, max_value=256, step=32),\n",
        "                                  input_shape=(X_train.shape[1], X_train.shape[2]))))\n",
        "    model.add(Dense(224, activation='relu'))\n",
        "    model.add(Dropout(hp.Float('dropout_rate', min_value=0.2, max_value=0.4, step=0.1)))\n",
        "    model.add(Dense(5))\n",
        "\n",
        "    # Define the learning rate parameter\n",
        "    hp_learning_rate = hp.Choice('learning_rate', values=[3e-4])\n",
        "\n",
        "    # Compile the model with the specified learning rate\n",
        "    model.compile(optimizer=tf.keras.optimizers.Adam(learning_rate=hp_learning_rate), loss='mean_squared_error')\n",
        "\n",
        "    return model\n",
        "\n",
        "tuner = RandomSearch(\n",
        "    build_model,\n",
        "    objective='val_loss',\n",
        "    max_trials=3,\n",
        "    executions_per_trial=1,\n",
        "    directory='hyperparameter_tuning',\n",
        "    project_name='bidirectional_lstm_hyperparameter_tuning_1min_2016_2019v7_1'\n",
        ")\n",
        "\n",
        "tuner.search(X_train, y_train, epochs=60, batch_size=75, validation_data=(X_val, y_val), callbacks=[EarlyStopping(patience=4)])\n",
        "\n",
        "best_model = tuner.get_best_models(num_models=1)[0]\n",
        "\n",
        "# Print the hyperparameters used in the best model\n",
        "print(\"Best hyperparameters:\")\n",
        "best_hyperparameters = tuner.get_best_hyperparameters(num_trials=1)[0]\n",
        "print(best_hyperparameters.values)\n",
        "\n",
        "# Predict on the validation set for hyperparameter tuning\n",
        "y_val_pred = best_model.predict(X_val).reshape((-1,))\n",
        "\n",
        "# Calculate RMSE and MAE on the validation set\n",
        "rmse_val = np.sqrt(mean_squared_error(y_val.reshape((-1,)), y_val_pred))\n",
        "mae_val = mean_absolute_error(y_val.reshape((-1,)), y_val_pred)\n",
        "\n",
        "print(\"Validation set metrics:\")\n",
        "print(\"RMSE:\", rmse_val)\n",
        "print(\"MAE:\", mae_val)\n",
        "\n",
        "# Predict on the test set\n",
        "y_test_pred = best_model.predict(X_test).reshape((-1,))\n",
        "\n",
        "# Calculate RMSE and MAE on the test set\n",
        "rmse_test = np.sqrt(mean_squared_error(y_test.reshape((-1,)), y_test_pred))\n",
        "mae_test = mean_absolute_error(y_test.reshape((-1,)), y_test_pred)\n",
        "\n",
        "print(\"\\nTest set metrics:\")\n",
        "print(\"RMSE:\", rmse_test)\n",
        "print(\"MAE:\", mae_test)\n",
        "\n",
        "# Append predictions to validation and test data\n",
        "#val_data['predictions_lstm_15min_2016_2019'] = y_val_pred\n",
        "test_data['predictions_lstm_1min_2023'] = y_test_pred\n",
        "\n",
        "# Save predictions to new dataframes\n",
        "#predictions_val_lstm_15min = val_data.copy()\n",
        "predictions_test_lstm_15min = test_data.copy()\n",
        "\n",
        "# Optionally, you can save these dataframes to CSV files\n",
        "#predictions_val_lstm_15min.to_csv('predictions_val_lstm_1min_2016_2019.csv', index=False)\n",
        "predictions_test_lstm_15min.to_csv('predictions_test_lstm_1min_2023_new.csv', index=False)"
      ],
      "metadata": {
        "colab": {
          "base_uri": "https://localhost:8080/"
        },
        "id": "sL_sJwAg3PXv",
        "outputId": "9700f1d0-678b-4365-96d3-a82265d7e958"
      },
      "execution_count": null,
      "outputs": [
        {
          "output_type": "stream",
          "name": "stdout",
          "text": [
            "Trial 3 Complete [00h 24m 25s]\n",
            "val_loss: 10.110486030578613\n",
            "\n",
            "Best val_loss So Far: 10.110486030578613\n",
            "Total elapsed time: 01h 07m 44s\n",
            "Best hyperparameters:\n",
            "{'units': 160, 'dropout_rate': 0.2, 'learning_rate': 0.0003}\n",
            "7264/7264 [==============================] - 20s 2ms/step\n",
            "Validation set metrics:\n",
            "RMSE: 3.1796963\n",
            "MAE: 1.2941307\n",
            "14443/14443 [==============================] - 35s 2ms/step\n",
            "\n",
            "Test set metrics:\n",
            "RMSE: 6.9897227\n",
            "MAE: 1.7941129\n"
          ]
        }
      ]
    },
    {
      "cell_type": "code",
      "source": [
        "import os\n",
        "os.kill(os.getpid(), 9)"
      ],
      "metadata": {
        "id": "YwopTU2DM8Y4"
      },
      "execution_count": null,
      "outputs": []
    },
    {
      "cell_type": "code",
      "source": [],
      "metadata": {
        "id": "lfENEFhCiF7H"
      },
      "execution_count": null,
      "outputs": []
    }
  ]
}