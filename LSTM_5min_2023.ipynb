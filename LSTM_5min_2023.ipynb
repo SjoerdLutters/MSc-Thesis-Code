{
  "nbformat": 4,
  "nbformat_minor": 0,
  "metadata": {
    "colab": {
      "provenance": [],
      "machine_shape": "hm",
      "gpuType": "T4"
    },
    "kernelspec": {
      "name": "python3",
      "display_name": "Python 3"
    },
    "language_info": {
      "name": "python"
    },
    "accelerator": "GPU"
  },
  "cells": [
    {
      "cell_type": "code",
      "execution_count": null,
      "metadata": {
        "id": "eHvu6K-iU9uD"
      },
      "outputs": [],
      "source": [
        "import pandas as pd\n",
        "import numpy as np"
      ]
    },
    {
      "cell_type": "code",
      "source": [
        "from google.colab import drive\n",
        "drive.mount('/content/drive')\n"
      ],
      "metadata": {
        "colab": {
          "base_uri": "https://localhost:8080/"
        },
        "id": "YFHzSLEjbA6o",
        "outputId": "e37431c1-ba0d-4467-bf35-faf678ed477c"
      },
      "execution_count": null,
      "outputs": [
        {
          "output_type": "stream",
          "name": "stdout",
          "text": [
            "Mounted at /content/drive\n"
          ]
        }
      ]
    },
    {
      "cell_type": "code",
      "source": [
        "# Navigate to the directory where your file is located\n",
        "import os\n",
        "os.chdir('/content/drive/MyDrive/Data MSc thesis')\n",
        "\n",
        "# Read the CSV file\n",
        "data = pd.read_csv(\"Preprocessed_5min_2023.csv\")"
      ],
      "metadata": {
        "id": "42IcdLLvm-n1"
      },
      "execution_count": null,
      "outputs": []
    },
    {
      "cell_type": "code",
      "source": [
        "import pandas as pd\n",
        "\n",
        "# Assuming 'year' is a column in your DataFrame 'data'\n",
        "data_year_encoded = pd.get_dummies(data, columns=['year'])\n"
      ],
      "metadata": {
        "id": "juLvR3HPzN-A"
      },
      "execution_count": null,
      "outputs": []
    },
    {
      "cell_type": "code",
      "source": [
        "import pandas as pd\n",
        "\n",
        "# Assuming 'month' is a column in your DataFrame 'data_year_encoded'\n",
        "# Map the month numbers to month names\n",
        "month_names = {1: 'January', 2: 'February', 3: 'March', 4: 'April', 5: 'May', 6: 'June',\n",
        "               7: 'July', 8: 'August', 9: 'September', 10: 'October', 11: 'November', 12: 'December'}\n",
        "\n",
        "# Map month numbers to month names and then one-hot encode\n",
        "data_month_encoded = pd.get_dummies(data_year_encoded, columns=['month'])\n",
        "data_month_encoded.rename(columns=month_names, inplace=True)\n"
      ],
      "metadata": {
        "id": "X20yumuUzYH7"
      },
      "execution_count": null,
      "outputs": []
    },
    {
      "cell_type": "code",
      "source": [
        "data_day_encoded = pd.get_dummies(data_month_encoded, columns=['day'])\n",
        "#data_month_encoded.rename(columns=month_names, inplace=True)\n"
      ],
      "metadata": {
        "id": "iZ46_Jl63VQG"
      },
      "execution_count": null,
      "outputs": []
    },
    {
      "cell_type": "code",
      "source": [
        "data_dayofweek_encoded = pd.get_dummies(data_day_encoded, columns=['day_of_week'])\n",
        "#data_month_encoded.rename(columns=month_names, inplace=True)\n"
      ],
      "metadata": {
        "id": "_EC52xyF34ma"
      },
      "execution_count": null,
      "outputs": []
    },
    {
      "cell_type": "code",
      "source": [
        "# Assuming 'weekend' is the column containing integer values (0 and 1)\n",
        "data_dayofweek_encoded['weekend'] = data_dayofweek_encoded['weekend'].astype(bool)\n",
        "data_dayofweek_encoded['is_public_holiday'] = data_dayofweek_encoded['is_public_holiday'].astype(bool)\n"
      ],
      "metadata": {
        "id": "o3hBmdbY4Jea"
      },
      "execution_count": null,
      "outputs": []
    },
    {
      "cell_type": "code",
      "source": [
        "data_hour_encoded = pd.get_dummies(data_dayofweek_encoded, columns=['hour'])\n",
        "#data_month_encoded.rename(columns=month_names, inplace=True)\n"
      ],
      "metadata": {
        "id": "1eC87W8O5-w0"
      },
      "execution_count": null,
      "outputs": []
    },
    {
      "cell_type": "code",
      "source": [
        "data_minute_encoded = pd.get_dummies(data_hour_encoded, columns=['minute'])\n",
        "#data_month_encoded.rename(columns=month_names, inplace=True)\n"
      ],
      "metadata": {
        "id": "0aUozfwi6S97"
      },
      "execution_count": null,
      "outputs": []
    },
    {
      "cell_type": "code",
      "source": [
        "from sklearn.preprocessing import StandardScaler\n",
        "\n",
        "# Assuming 'intensiteit' is the column you want to standardize\n",
        "intensiteit_values = data_minute_encoded['intensiteit'].values.reshape(-1, 1)\n",
        "\n",
        "# Initialize the StandardScaler\n",
        "scaler = StandardScaler()\n",
        "\n",
        "# Fit the scaler to the intensiteit values and transform them\n",
        "intensiteit_scaled = scaler.fit_transform(intensiteit_values)\n",
        "\n",
        "# Replace the 'intensiteit' column with the standardized values\n",
        "data_minute_encoded['intensiteit'] = intensiteit_scaled\n"
      ],
      "metadata": {
        "id": "s6or2O_86jUf"
      },
      "execution_count": null,
      "outputs": []
    },
    {
      "cell_type": "code",
      "source": [
        "# Sort the data by id_meetlocatie and date\n",
        "data1 = data_minute_encoded.sort_values(by=[\"id_meetlocatie\", \"date\"])\n",
        "\n",
        "# Group by id_meetlocatie and add the lagged feature\n",
        "data1[\"avg_speed_t-1\"] = data1.groupby(\"id_meetlocatie\")[\"avg_speed\"].shift(1)"
      ],
      "metadata": {
        "id": "JxxYP-YvbBCc"
      },
      "execution_count": null,
      "outputs": []
    },
    {
      "cell_type": "code",
      "source": [
        "# Sort the data by id_meetlocatie and date\n",
        "data2 = data1.sort_values(by=[\"id_meetlocatie\", \"date\"])\n",
        "\n",
        "# Group by id_meetlocatie and add the lagged feature\n",
        "data2[\"avg_speed_t-2\"] = data2.groupby(\"id_meetlocatie\")[\"avg_speed_t-1\"].shift(1)"
      ],
      "metadata": {
        "id": "nOA18OQtbBIO"
      },
      "execution_count": null,
      "outputs": []
    },
    {
      "cell_type": "code",
      "source": [
        "# Sort the data by id_meetlocatie and date\n",
        "data3 = data2.sort_values(by=[\"id_meetlocatie\", \"date\"])\n",
        "\n",
        "# Group by id_meetlocatie and add the lagged feature\n",
        "data3[\"avg_speed_t-3\"] = data3.groupby(\"id_meetlocatie\")[\"avg_speed_t-2\"].shift(1)"
      ],
      "metadata": {
        "id": "ZmfLADmgbN_o"
      },
      "execution_count": null,
      "outputs": []
    },
    {
      "cell_type": "code",
      "source": [
        "data4 = data3.dropna(subset=['avg_speed_t-1', 'avg_speed_t-2', 'avg_speed_t-3'])"
      ],
      "metadata": {
        "id": "qc7rc3N1bWDC"
      },
      "execution_count": null,
      "outputs": []
    },
    {
      "cell_type": "code",
      "source": [
        "from sklearn.preprocessing import StandardScaler\n",
        "\n",
        "# Columns to standardize\n",
        "columns_to_standardize = ['avg_speed_t-1', 'avg_speed_t-2', 'avg_speed_t-3']\n",
        "\n",
        "# Initialize the StandardScaler\n",
        "scaler = StandardScaler()\n",
        "\n",
        "# Fit the scaler to the selected columns and transform them\n",
        "data4[columns_to_standardize] = scaler.fit_transform(data4[columns_to_standardize])\n"
      ],
      "metadata": {
        "colab": {
          "base_uri": "https://localhost:8080/"
        },
        "id": "-oajVurl7RnD",
        "outputId": "4c0255cc-bca5-4f63-aa9c-1ed663bc982c"
      },
      "execution_count": null,
      "outputs": [
        {
          "output_type": "stream",
          "name": "stderr",
          "text": [
            "<ipython-input-16-94757408da41>:10: SettingWithCopyWarning: \n",
            "A value is trying to be set on a copy of a slice from a DataFrame.\n",
            "Try using .loc[row_indexer,col_indexer] = value instead\n",
            "\n",
            "See the caveats in the documentation: https://pandas.pydata.org/pandas-docs/stable/user_guide/indexing.html#returning-a-view-versus-a-copy\n",
            "  data4[columns_to_standardize] = scaler.fit_transform(data4[columns_to_standardize])\n"
          ]
        }
      ]
    },
    {
      "cell_type": "code",
      "source": [
        "encoded_data = pd.get_dummies(data4, columns=['id_meetlocatie'])"
      ],
      "metadata": {
        "id": "tdDVszJ-bWpY"
      },
      "execution_count": null,
      "outputs": []
    },
    {
      "cell_type": "code",
      "source": [
        "#2016-2019\n",
        "# vanaf 15 maart 2019 test split\n",
        "# 19 oktober 2018 val split\n",
        "# tot 19 oktober 2018 train split\n",
        "\n",
        "#2023\n",
        "#vanaf 20 oktober test split\n",
        "#tot en met 12 september train split\n",
        "#tussen in val split"
      ],
      "metadata": {
        "id": "dMTa2COfbWug"
      },
      "execution_count": null,
      "outputs": []
    },
    {
      "cell_type": "code",
      "source": [
        "import pandas as pd\n",
        "\n",
        "# Assuming 'data' is your DataFrame containing the dataset\n",
        "\n",
        "# Convert 'date' column to datetime type\n",
        "encoded_data['date'] = pd.to_datetime(encoded_data['date'])\n",
        "\n",
        "# Perform train-validation-test split based on date\n",
        "train_data = encoded_data[encoded_data['date'] < '2023-09-13']\n",
        "test_data = encoded_data[encoded_data['date'] > '2023-10-19']\n",
        "val_data = encoded_data[(encoded_data['date'] >= '2023-09-13') & (encoded_data['date'] <= '2023-10-19')]\n",
        "\n",
        "# Optionally, you may reset the index of each split DataFrame\n",
        "train_data.reset_index(drop=True, inplace=True)\n",
        "test_data.reset_index(drop=True, inplace=True)\n",
        "val_data.reset_index(drop=True, inplace=True)\n"
      ],
      "metadata": {
        "id": "tQjTmMsrbiGI"
      },
      "execution_count": null,
      "outputs": []
    },
    {
      "cell_type": "code",
      "source": [
        "train_data = train_data.drop(columns=['date'])\n",
        "val_data = val_data.drop(columns=['date'])\n",
        "test_data = test_data.drop(columns=['date'])"
      ],
      "metadata": {
        "id": "CZ3x9QFnbm9o"
      },
      "execution_count": null,
      "outputs": []
    },
    {
      "cell_type": "code",
      "source": [
        "!pip install keras-tuner\n"
      ],
      "metadata": {
        "colab": {
          "base_uri": "https://localhost:8080/"
        },
        "id": "-n8v022J6GCV",
        "outputId": "8bc87fcd-0fff-49a1-aa7c-28c2eab3afad"
      },
      "execution_count": null,
      "outputs": [
        {
          "output_type": "stream",
          "name": "stdout",
          "text": [
            "Collecting keras-tuner\n",
            "  Downloading keras_tuner-1.4.7-py3-none-any.whl (129 kB)\n",
            "\u001b[2K     \u001b[90m━━━━━━━━━━━━━━━━━━━━━━━━━━━━━━━━━━━━━━━━\u001b[0m \u001b[32m129.1/129.1 kB\u001b[0m \u001b[31m3.3 MB/s\u001b[0m eta \u001b[36m0:00:00\u001b[0m\n",
            "\u001b[?25hRequirement already satisfied: keras in /usr/local/lib/python3.10/dist-packages (from keras-tuner) (2.15.0)\n",
            "Requirement already satisfied: packaging in /usr/local/lib/python3.10/dist-packages (from keras-tuner) (24.0)\n",
            "Requirement already satisfied: requests in /usr/local/lib/python3.10/dist-packages (from keras-tuner) (2.31.0)\n",
            "Collecting kt-legacy (from keras-tuner)\n",
            "  Downloading kt_legacy-1.0.5-py3-none-any.whl (9.6 kB)\n",
            "Requirement already satisfied: charset-normalizer<4,>=2 in /usr/local/lib/python3.10/dist-packages (from requests->keras-tuner) (3.3.2)\n",
            "Requirement already satisfied: idna<4,>=2.5 in /usr/local/lib/python3.10/dist-packages (from requests->keras-tuner) (3.7)\n",
            "Requirement already satisfied: urllib3<3,>=1.21.1 in /usr/local/lib/python3.10/dist-packages (from requests->keras-tuner) (2.0.7)\n",
            "Requirement already satisfied: certifi>=2017.4.17 in /usr/local/lib/python3.10/dist-packages (from requests->keras-tuner) (2024.2.2)\n",
            "Installing collected packages: kt-legacy, keras-tuner\n",
            "Successfully installed keras-tuner-1.4.7 kt-legacy-1.0.5\n"
          ]
        }
      ]
    },
    {
      "cell_type": "code",
      "source": [
        "# See shape to find number of rows"
      ],
      "metadata": {
        "id": "ewScTRAUIdRg"
      },
      "execution_count": null,
      "outputs": []
    },
    {
      "cell_type": "code",
      "source": [
        "train_data.shape"
      ],
      "metadata": {
        "colab": {
          "base_uri": "https://localhost:8080/"
        },
        "id": "HUOgURoUkxE9",
        "outputId": "e38ee86a-af57-4fa2-d722-b888e570bb85"
      },
      "execution_count": null,
      "outputs": [
        {
          "output_type": "execute_result",
          "data": {
            "text/plain": [
              "(1308884, 113)"
            ]
          },
          "metadata": {},
          "execution_count": 21
        }
      ]
    },
    {
      "cell_type": "code",
      "source": [
        "val_data.shape"
      ],
      "metadata": {
        "colab": {
          "base_uri": "https://localhost:8080/"
        },
        "id": "uTpk4ZNTlE5B",
        "outputId": "f666d08e-8c65-4954-c3da-903e789ce532"
      },
      "execution_count": null,
      "outputs": [
        {
          "output_type": "execute_result",
          "data": {
            "text/plain": [
              "(190240, 113)"
            ]
          },
          "metadata": {},
          "execution_count": 22
        }
      ]
    },
    {
      "cell_type": "code",
      "source": [
        "test_data.shape"
      ],
      "metadata": {
        "colab": {
          "base_uri": "https://localhost:8080/"
        },
        "id": "SmnDhtwIlWkn",
        "outputId": "cd9580d6-6200-4713-b83b-aa64159ffba0"
      },
      "execution_count": null,
      "outputs": [
        {
          "output_type": "execute_result",
          "data": {
            "text/plain": [
              "(378306, 113)"
            ]
          },
          "metadata": {},
          "execution_count": 23
        }
      ]
    },
    {
      "cell_type": "code",
      "source": [
        "import pandas as pd\n",
        "\n",
        "# Assuming train_data, val_data, and test_data are pandas DataFrames\n",
        "train_data = train_data.dropna()\n",
        "val_data = val_data.dropna()\n",
        "test_data = test_data.dropna()\n",
        "\n",
        "print(\"Number of instances in train_data after removing NaN values:\", len(train_data))\n",
        "print(\"Number of instances in val_data after removing NaN values:\", len(val_data))\n",
        "print(\"Number of instances in test_data after removing NaN values:\", len(test_data))"
      ],
      "metadata": {
        "colab": {
          "base_uri": "https://localhost:8080/"
        },
        "id": "MwRGlyRFQHlJ",
        "outputId": "91172633-431b-4748-9ca3-e98dac2a9766"
      },
      "execution_count": null,
      "outputs": [
        {
          "output_type": "stream",
          "name": "stdout",
          "text": [
            "Number of instances in train_data after removing NaN values: 1308882\n",
            "Number of instances in val_data after removing NaN values: 190240\n",
            "Number of instances in test_data after removing NaN values: 378306\n"
          ]
        }
      ]
    },
    {
      "cell_type": "code",
      "source": [
        "train_data = train_data.iloc[:1308880]\n",
        "val_data = val_data.iloc[:190240]\n",
        "test_data = test_data.iloc[:378305]"
      ],
      "metadata": {
        "id": "zRbtyyIn3Ryn"
      },
      "execution_count": null,
      "outputs": []
    },
    {
      "cell_type": "code",
      "source": [
        "import tensorflow as tf\n",
        "from tensorflow.keras.models import Sequential\n",
        "from tensorflow.keras.layers import LSTM, Dense, Bidirectional, Dropout\n",
        "from tensorflow.keras.callbacks import EarlyStopping\n",
        "from sklearn.metrics import mean_squared_error, mean_absolute_error\n",
        "from kerastuner.tuners import RandomSearch\n",
        "\n",
        "# Set random seed for TensorFlow\n",
        "tf.random.set_seed(42)\n",
        "\n",
        "# Set random seed for numpy operations\n",
        "np.random.seed(42)\n",
        "\n",
        "# Define the features and target variable\n",
        "X_train = train_data.drop(columns=['avg_speed']).values\n",
        "y_train = train_data['avg_speed'].values\n",
        "\n",
        "X_val = val_data.drop(columns=['avg_speed']).values\n",
        "y_val = val_data['avg_speed'].values\n",
        "\n",
        "X_test = test_data.drop(columns=['avg_speed']).values\n",
        "y_test = test_data['avg_speed'].values\n",
        "\n",
        "# Convert X_train to float32\n",
        "X_train = X_train.astype('float32')\n",
        "y_train = y_train.astype('float32')\n",
        "\n",
        "X_val = X_val.astype('float32')\n",
        "y_val = y_val.astype('float32')\n",
        "\n",
        "X_test = X_test.astype('float32')\n",
        "y_test = y_test.astype('float32')\n",
        "\n",
        "# Reshape data for LSTM input: (samples, time steps, features)\n",
        "X_train = X_train.reshape((X_train.shape[0] // 5, 5, X_train.shape[1]))\n",
        "X_val = X_val.reshape((X_val.shape[0] // 5, 5, X_val.shape[1]))\n",
        "X_test = X_test.reshape((X_test.shape[0] // 5, 5, X_test.shape[1]))\n",
        "\n",
        "# Reshape target variables\n",
        "y_train = y_train.reshape((y_train.shape[0] // 5, 5))\n",
        "y_val = y_val.reshape((y_val.shape[0] // 5, 5))\n",
        "y_test = y_test.reshape((y_test.shape[0] // 5, 5))\n",
        "\n",
        "def build_model(hp):\n",
        "    model = Sequential()\n",
        "    model.add(Bidirectional(LSTM(units=hp.Int('units', min_value=192, max_value=256, step=32),\n",
        "                                  input_shape=(X_train.shape[1], X_train.shape[2]))))\n",
        "    model.add(Dense(224, activation='relu'))\n",
        "    model.add(Dropout(hp.Float('dropout_rate', min_value=0.2, max_value=0.4, step=0.1)))\n",
        "    model.add(Dense(5))\n",
        "\n",
        "    # Define the learning rate parameter\n",
        "    hp_learning_rate = hp.Choice('learning_rate', values=[3e-4])\n",
        "\n",
        "    # Compile the model with the specified learning rate\n",
        "    model.compile(optimizer=tf.keras.optimizers.Adam(learning_rate=hp_learning_rate), loss='mean_squared_error')\n",
        "\n",
        "    return model\n",
        "\n",
        "tuner = RandomSearch(\n",
        "    build_model,\n",
        "    objective='val_loss',\n",
        "    max_trials=3,\n",
        "    executions_per_trial=1,\n",
        "    directory='hyperparameter_tuning',\n",
        "    project_name='bidirectional_lstm_hyperparameter_tuning_1min_2016_2019v7_2'\n",
        ")\n",
        "\n",
        "tuner.search(X_train, y_train, epochs=60, batch_size=75, validation_data=(X_val, y_val), callbacks=[EarlyStopping(patience=4)])\n",
        "\n",
        "best_model = tuner.get_best_models(num_models=1)[0]\n",
        "\n",
        "# Print the hyperparameters used in the best model\n",
        "print(\"Best hyperparameters:\")\n",
        "best_hyperparameters = tuner.get_best_hyperparameters(num_trials=1)[0]\n",
        "print(best_hyperparameters.values)\n",
        "\n",
        "# Predict on the validation set for hyperparameter tuning\n",
        "y_val_pred = best_model.predict(X_val).reshape((-1,))\n",
        "\n",
        "# Calculate RMSE and MAE on the validation set\n",
        "rmse_val = np.sqrt(mean_squared_error(y_val.reshape((-1,)), y_val_pred))\n",
        "mae_val = mean_absolute_error(y_val.reshape((-1,)), y_val_pred)\n",
        "\n",
        "print(\"Validation set metrics:\")\n",
        "print(\"RMSE:\", rmse_val)\n",
        "print(\"MAE:\", mae_val)\n",
        "\n",
        "# Predict on the test set\n",
        "y_test_pred = best_model.predict(X_test).reshape((-1,))\n",
        "\n",
        "# Calculate RMSE and MAE on the test set\n",
        "rmse_test = np.sqrt(mean_squared_error(y_test.reshape((-1,)), y_test_pred))\n",
        "mae_test = mean_absolute_error(y_test.reshape((-1,)), y_test_pred)\n",
        "\n",
        "print(\"\\nTest set metrics:\")\n",
        "print(\"RMSE:\", rmse_test)\n",
        "print(\"MAE:\", mae_test)\n",
        "\n",
        "# Append predictions to validation and test data\n",
        "#val_data['predictions_lstm_15min_2016_2019'] = y_val_pred\n",
        "test_data['predictions_lstm_5min_2023'] = y_test_pred\n",
        "\n",
        "# Save predictions to new dataframes\n",
        "#predictions_val_lstm_15min = val_data.copy()\n",
        "predictions_test_lstm_15min = test_data.copy()\n",
        "\n",
        "# Optionally, you can save these dataframes to CSV files\n",
        "#predictions_val_lstm_15min.to_csv('predictions_val_lstm_1min_2016_2019.csv', index=False)\n",
        "predictions_test_lstm_15min.to_csv('predictions_test_lstm_5min_2023_new.csv', index=False)"
      ],
      "metadata": {
        "colab": {
          "base_uri": "https://localhost:8080/"
        },
        "id": "sL_sJwAg3PXv",
        "outputId": "f6d02114-5724-49ac-9ac8-1fb4c609d158"
      },
      "execution_count": null,
      "outputs": [
        {
          "output_type": "stream",
          "name": "stdout",
          "text": [
            "Trial 3 Complete [00h 08m 22s]\n",
            "val_loss: 4.5160136222839355\n",
            "\n",
            "Best val_loss So Far: 4.5160136222839355\n",
            "Total elapsed time: 00h 20m 04s\n",
            "Best hyperparameters:\n",
            "{'units': 192, 'dropout_rate': 0.2, 'learning_rate': 0.0003}\n",
            "1189/1189 [==============================] - 4s 2ms/step\n",
            "Validation set metrics:\n",
            "RMSE: 2.1250906\n",
            "MAE: 0.8490686\n",
            "2365/2365 [==============================] - 6s 2ms/step\n",
            "\n",
            "Test set metrics:\n",
            "RMSE: 2.4841235\n",
            "MAE: 0.9288242\n"
          ]
        }
      ]
    },
    {
      "cell_type": "code",
      "source": [],
      "metadata": {
        "id": "lfENEFhCiF7H"
      },
      "execution_count": null,
      "outputs": []
    }
  ]
}